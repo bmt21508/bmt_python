{
  "nbformat": 4,
  "nbformat_minor": 0,
  "metadata": {
    "colab": {
      "name": "21508 9주차 실습.ipynb",
      "provenance": [],
      "authorship_tag": "ABX9TyMXWhXloAVqvf9v1zXq6cO4",
      "include_colab_link": true
    },
    "kernelspec": {
      "name": "python3",
      "display_name": "Python 3"
    },
    "language_info": {
      "name": "python"
    }
  },
  "cells": [
    {
      "cell_type": "markdown",
      "metadata": {
        "id": "view-in-github",
        "colab_type": "text"
      },
      "source": [
        "<a href=\"https://colab.research.google.com/github/bmt21508/bmt_python/blob/main/21508_9%EC%A3%BC%EC%B0%A8_%EC%8B%A4%EC%8A%B5.ipynb\" target=\"_parent\"><img src=\"https://colab.research.google.com/assets/colab-badge.svg\" alt=\"Open In Colab\"/></a>"
      ]
    },
    {
      "cell_type": "code",
      "metadata": {
        "id": "p-LKynfjB4rc"
      },
      "source": [
        "fp = open('지역평균기온.txt')\n",
        "data = fp.read()\n",
        "fp.close()"
      ],
      "execution_count": null,
      "outputs": []
    },
    {
      "cell_type": "code",
      "metadata": {
        "colab": {
          "base_uri": "https://localhost:8080/",
          "height": 53
        },
        "id": "mGD7KTpRE72x",
        "outputId": "d35a75f0-1b3d-4c3f-f899-e185cb2d16fe"
      },
      "source": [
        "data"
      ],
      "execution_count": null,
      "outputs": [
        {
          "output_type": "execute_result",
          "data": {
            "application/vnd.google.colaboratory.intrinsic+json": {
              "type": "string"
            },
            "text/plain": [
              "'서울,20\\n부산,26\\n대구,24\\n인천,24\\n광주,25\\n대전,22\\n울산,26\\n세종,23\\n경기,24\\n강원,23\\n충북,26\\n충남,22\\n전북,24\\n전남,23\\n경북,28\\n경남,29\\n제주,26'"
            ]
          },
          "metadata": {
            "tags": []
          },
          "execution_count": 2
        }
      ]
    },
    {
      "cell_type": "code",
      "metadata": {
        "colab": {
          "base_uri": "https://localhost:8080/"
        },
        "id": "68c1BpoTE-45",
        "outputId": "fd62dbbc-a35d-46f3-cd52-89a6bf1720a8"
      },
      "source": [
        "print(data)"
      ],
      "execution_count": null,
      "outputs": [
        {
          "output_type": "stream",
          "text": [
            "서울,20\n",
            "부산,26\n",
            "대구,24\n",
            "인천,24\n",
            "광주,25\n",
            "대전,22\n",
            "울산,26\n",
            "세종,23\n",
            "경기,24\n",
            "강원,23\n",
            "충북,26\n",
            "충남,22\n",
            "전북,24\n",
            "전남,23\n",
            "경북,28\n",
            "경남,29\n",
            "제주,26\n"
          ],
          "name": "stdout"
        }
      ]
    },
    {
      "cell_type": "code",
      "metadata": {
        "colab": {
          "base_uri": "https://localhost:8080/",
          "height": 244
        },
        "id": "1ydBDTGJFGva",
        "outputId": "7e8dc8c5-3646-4164-b5f5-ed0fabb60463"
      },
      "source": [
        "fp = open('지역평균기온.txt')\n",
        "data = fp.readlines()\n",
        "fp.close()\n",
        "\n",
        "dt = {}\n",
        "for line in data :\n",
        "  line = line.replace('\\n','')\n",
        "  items = line.split('.')\n",
        "  [items[0]] = int(items[1])\n",
        "  \n",
        "\n",
        "dt"
      ],
      "execution_count": null,
      "outputs": [
        {
          "output_type": "error",
          "ename": "IndexError",
          "evalue": "ignored",
          "traceback": [
            "\u001b[0;31m---------------------------------------------------------------------------\u001b[0m",
            "\u001b[0;31mIndexError\u001b[0m                                Traceback (most recent call last)",
            "\u001b[0;32m<ipython-input-11-9a1f4c476158>\u001b[0m in \u001b[0;36m<module>\u001b[0;34m()\u001b[0m\n\u001b[1;32m      7\u001b[0m   \u001b[0mline\u001b[0m \u001b[0;34m=\u001b[0m \u001b[0mline\u001b[0m\u001b[0;34m.\u001b[0m\u001b[0mreplace\u001b[0m\u001b[0;34m(\u001b[0m\u001b[0;34m'\\n'\u001b[0m\u001b[0;34m,\u001b[0m\u001b[0;34m''\u001b[0m\u001b[0;34m)\u001b[0m\u001b[0;34m\u001b[0m\u001b[0;34m\u001b[0m\u001b[0m\n\u001b[1;32m      8\u001b[0m   \u001b[0mitems\u001b[0m \u001b[0;34m=\u001b[0m \u001b[0mline\u001b[0m\u001b[0;34m.\u001b[0m\u001b[0msplit\u001b[0m\u001b[0;34m(\u001b[0m\u001b[0;34m'.'\u001b[0m\u001b[0;34m)\u001b[0m\u001b[0;34m\u001b[0m\u001b[0;34m\u001b[0m\u001b[0m\n\u001b[0;32m----> 9\u001b[0;31m   \u001b[0;34m[\u001b[0m\u001b[0mitems\u001b[0m\u001b[0;34m[\u001b[0m\u001b[0;36m0\u001b[0m\u001b[0;34m]\u001b[0m\u001b[0;34m]\u001b[0m \u001b[0;34m=\u001b[0m \u001b[0mint\u001b[0m\u001b[0;34m(\u001b[0m\u001b[0mitems\u001b[0m\u001b[0;34m[\u001b[0m\u001b[0;36m1\u001b[0m\u001b[0;34m]\u001b[0m\u001b[0;34m)\u001b[0m\u001b[0;34m\u001b[0m\u001b[0;34m\u001b[0m\u001b[0m\n\u001b[0m\u001b[1;32m     10\u001b[0m \u001b[0;34m\u001b[0m\u001b[0m\n\u001b[1;32m     11\u001b[0m \u001b[0;34m\u001b[0m\u001b[0m\n",
            "\u001b[0;31mIndexError\u001b[0m: list index out of range"
          ]
        }
      ]
    },
    {
      "cell_type": "code",
      "metadata": {
        "colab": {
          "base_uri": "https://localhost:8080/"
        },
        "id": "iX-K4NSqG9dz",
        "outputId": "67e06514-0bf9-44f0-ab73-99658371f2cb"
      },
      "source": [
        "!sudo apt-get install -y fonts-nanum\n",
        "!sudo fc-cache -fv\n",
        "!rm ~/.cache/matplotlib -rf"
      ],
      "execution_count": null,
      "outputs": [
        {
          "output_type": "stream",
          "text": [
            "Reading package lists... Done\n",
            "Building dependency tree       \n",
            "Reading state information... Done\n",
            "The following package was automatically installed and is no longer required:\n",
            "  libnvidia-common-460\n",
            "Use 'sudo apt autoremove' to remove it.\n",
            "The following NEW packages will be installed:\n",
            "  fonts-nanum\n",
            "0 upgraded, 1 newly installed, 0 to remove and 34 not upgraded.\n",
            "Need to get 9,604 kB of archives.\n",
            "After this operation, 29.5 MB of additional disk space will be used.\n",
            "Get:1 http://archive.ubuntu.com/ubuntu bionic/universe amd64 fonts-nanum all 20170925-1 [9,604 kB]\n",
            "Fetched 9,604 kB in 2s (5,666 kB/s)\n",
            "debconf: unable to initialize frontend: Dialog\n",
            "debconf: (No usable dialog-like program is installed, so the dialog based frontend cannot be used. at /usr/share/perl5/Debconf/FrontEnd/Dialog.pm line 76, <> line 1.)\n",
            "debconf: falling back to frontend: Readline\n",
            "debconf: unable to initialize frontend: Readline\n",
            "debconf: (This frontend requires a controlling tty.)\n",
            "debconf: falling back to frontend: Teletype\n",
            "dpkg-preconfigure: unable to re-open stdin: \n",
            "Selecting previously unselected package fonts-nanum.\n",
            "(Reading database ... 160690 files and directories currently installed.)\n",
            "Preparing to unpack .../fonts-nanum_20170925-1_all.deb ...\n",
            "Unpacking fonts-nanum (20170925-1) ...\n",
            "Setting up fonts-nanum (20170925-1) ...\n",
            "Processing triggers for fontconfig (2.12.6-0ubuntu2) ...\n",
            "/usr/share/fonts: caching, new cache contents: 0 fonts, 1 dirs\n",
            "/usr/share/fonts/truetype: caching, new cache contents: 0 fonts, 3 dirs\n",
            "/usr/share/fonts/truetype/humor-sans: caching, new cache contents: 1 fonts, 0 dirs\n",
            "/usr/share/fonts/truetype/liberation: caching, new cache contents: 16 fonts, 0 dirs\n",
            "/usr/share/fonts/truetype/nanum: caching, new cache contents: 10 fonts, 0 dirs\n",
            "/usr/local/share/fonts: caching, new cache contents: 0 fonts, 0 dirs\n",
            "/root/.local/share/fonts: skipping, no such directory\n",
            "/root/.fonts: skipping, no such directory\n",
            "/var/cache/fontconfig: cleaning cache directory\n",
            "/root/.cache/fontconfig: not cleaning non-existent cache directory\n",
            "/root/.fontconfig: not cleaning non-existent cache directory\n",
            "fc-cache: succeeded\n"
          ],
          "name": "stdout"
        }
      ]
    },
    {
      "cell_type": "code",
      "metadata": {
        "colab": {
          "base_uri": "https://localhost:8080/",
          "height": 136
        },
        "id": "3tNNAUcUIvtr",
        "outputId": "9cc40238-3f5b-41ce-d659-079a6f8a7587"
      },
      "source": [
        "fp = open('지역평균기온.txt')\n",
        "data = fp.readlines()\n",
        "fp.close()\n",
        "\n",
        "dt = {}\n",
        "\n",
        "for line in data : \n",
        "  line = line.replace('\\n', '')\n",
        "  items = line.split(',')\n",
        "  dt[items[0]] = int(items[1])\n",
        "print(dt)\n",
        "\n",
        "area = list(dt.keys())\n",
        "temp = list(dt.values())\n",
        "print(area)\n",
        "print(temp)\n",
        "\n",
        "import matplotlib.pyplot as plt\n",
        "\n",
        "plt.rc('font', family='NanumBarunGothic') # 한글 글꼴 설정\n",
        "\n",
        "plt.figure(figsize=(10.5))\n",
        "plt.plot([2, 5, 7, 1])\n",
        "plt.show("
      ],
      "execution_count": null,
      "outputs": [
        {
          "output_type": "error",
          "ename": "SyntaxError",
          "evalue": "ignored",
          "traceback": [
            "\u001b[0;36m  File \u001b[0;32m\"<ipython-input-17-039051bb6a0b>\"\u001b[0;36m, line \u001b[0;32m24\u001b[0m\n\u001b[0;31m    plt.show(\u001b[0m\n\u001b[0m             ^\u001b[0m\n\u001b[0;31mSyntaxError\u001b[0m\u001b[0;31m:\u001b[0m unexpected EOF while parsing\n"
          ]
        }
      ]
    },
    {
      "cell_type": "code",
      "metadata": {
        "id": "woaoPHo2Kl_6"
      },
      "source": [
        "import pandas as pd\n",
        "import numpy as np\n",
        "import matplotlib.pyplot as plt"
      ],
      "execution_count": 19,
      "outputs": []
    },
    {
      "cell_type": "code",
      "metadata": {
        "id": "QcH4nJ-MQyVr"
      },
      "source": [
        "s = pd.Series([1, 3, 5, np.nan, 6, 8])"
      ],
      "execution_count": 20,
      "outputs": []
    },
    {
      "cell_type": "code",
      "metadata": {
        "colab": {
          "base_uri": "https://localhost:8080/"
        },
        "id": "zixt8WXRRMeU",
        "outputId": "776946f4-b3e1-40ff-a4ce-23fbe6b63669"
      },
      "source": [
        "s"
      ],
      "execution_count": 21,
      "outputs": [
        {
          "output_type": "execute_result",
          "data": {
            "text/plain": [
              "0    1.0\n",
              "1    3.0\n",
              "2    5.0\n",
              "3    NaN\n",
              "4    6.0\n",
              "5    8.0\n",
              "dtype: float64"
            ]
          },
          "metadata": {
            "tags": []
          },
          "execution_count": 21
        }
      ]
    },
    {
      "cell_type": "code",
      "metadata": {
        "colab": {
          "base_uri": "https://localhost:8080/"
        },
        "id": "0iv3gMWjRb66",
        "outputId": "528b522d-2fe4-4fac-911b-96798a9483a9"
      },
      "source": [
        "type(s)"
      ],
      "execution_count": 22,
      "outputs": [
        {
          "output_type": "execute_result",
          "data": {
            "text/plain": [
              "pandas.core.series.Series"
            ]
          },
          "metadata": {
            "tags": []
          },
          "execution_count": 22
        }
      ]
    },
    {
      "cell_type": "code",
      "metadata": {
        "colab": {
          "base_uri": "https://localhost:8080/",
          "height": 451
        },
        "id": "TgvffuuDRm2S",
        "outputId": "e31b6a9e-7b62-49c7-d465-af638802f03e"
      },
      "source": [
        "import pandas as pd\n",
        "import numpy as np\n",
        "\n",
        "dates = pd.date_range('20201113', periods=6)\n",
        "\n",
        "print(type(dates))\n",
        "print(dates)\n",
        "\n",
        "df = pd.DataFrame(np.random.randn(6,4), index=dates, columns=list('ABCD')) \n",
        "# pd.DataFrame([행과열의 들어갈 값들], 행 항목, 열 항목)\n",
        "\n",
        "print(type(df))\n",
        "print(df)\n",
        "df"
      ],
      "execution_count": 26,
      "outputs": [
        {
          "output_type": "stream",
          "text": [
            "<class 'pandas.core.indexes.datetimes.DatetimeIndex'>\n",
            "DatetimeIndex(['2020-11-13', '2020-11-14', '2020-11-15', '2020-11-16',\n",
            "               '2020-11-17', '2020-11-18'],\n",
            "              dtype='datetime64[ns]', freq='D')\n",
            "<class 'pandas.core.frame.DataFrame'>\n",
            "                   A         B         C         D\n",
            "2020-11-13  1.136200  1.392180 -0.574110  0.944047\n",
            "2020-11-14 -0.624667 -0.221058  1.119856 -1.916533\n",
            "2020-11-15  1.265641  0.133612 -0.847478 -1.062376\n",
            "2020-11-16 -2.248451 -1.242705  0.417448  0.932511\n",
            "2020-11-17  0.625905 -0.157298  0.454234 -1.583065\n",
            "2020-11-18 -1.984072  0.080076  0.985034 -0.281851\n"
          ],
          "name": "stdout"
        },
        {
          "output_type": "execute_result",
          "data": {
            "text/html": [
              "<div>\n",
              "<style scoped>\n",
              "    .dataframe tbody tr th:only-of-type {\n",
              "        vertical-align: middle;\n",
              "    }\n",
              "\n",
              "    .dataframe tbody tr th {\n",
              "        vertical-align: top;\n",
              "    }\n",
              "\n",
              "    .dataframe thead th {\n",
              "        text-align: right;\n",
              "    }\n",
              "</style>\n",
              "<table border=\"1\" class=\"dataframe\">\n",
              "  <thead>\n",
              "    <tr style=\"text-align: right;\">\n",
              "      <th></th>\n",
              "      <th>A</th>\n",
              "      <th>B</th>\n",
              "      <th>C</th>\n",
              "      <th>D</th>\n",
              "    </tr>\n",
              "  </thead>\n",
              "  <tbody>\n",
              "    <tr>\n",
              "      <th>2020-11-13</th>\n",
              "      <td>1.136200</td>\n",
              "      <td>1.392180</td>\n",
              "      <td>-0.574110</td>\n",
              "      <td>0.944047</td>\n",
              "    </tr>\n",
              "    <tr>\n",
              "      <th>2020-11-14</th>\n",
              "      <td>-0.624667</td>\n",
              "      <td>-0.221058</td>\n",
              "      <td>1.119856</td>\n",
              "      <td>-1.916533</td>\n",
              "    </tr>\n",
              "    <tr>\n",
              "      <th>2020-11-15</th>\n",
              "      <td>1.265641</td>\n",
              "      <td>0.133612</td>\n",
              "      <td>-0.847478</td>\n",
              "      <td>-1.062376</td>\n",
              "    </tr>\n",
              "    <tr>\n",
              "      <th>2020-11-16</th>\n",
              "      <td>-2.248451</td>\n",
              "      <td>-1.242705</td>\n",
              "      <td>0.417448</td>\n",
              "      <td>0.932511</td>\n",
              "    </tr>\n",
              "    <tr>\n",
              "      <th>2020-11-17</th>\n",
              "      <td>0.625905</td>\n",
              "      <td>-0.157298</td>\n",
              "      <td>0.454234</td>\n",
              "      <td>-1.583065</td>\n",
              "    </tr>\n",
              "    <tr>\n",
              "      <th>2020-11-18</th>\n",
              "      <td>-1.984072</td>\n",
              "      <td>0.080076</td>\n",
              "      <td>0.985034</td>\n",
              "      <td>-0.281851</td>\n",
              "    </tr>\n",
              "  </tbody>\n",
              "</table>\n",
              "</div>"
            ],
            "text/plain": [
              "                   A         B         C         D\n",
              "2020-11-13  1.136200  1.392180 -0.574110  0.944047\n",
              "2020-11-14 -0.624667 -0.221058  1.119856 -1.916533\n",
              "2020-11-15  1.265641  0.133612 -0.847478 -1.062376\n",
              "2020-11-16 -2.248451 -1.242705  0.417448  0.932511\n",
              "2020-11-17  0.625905 -0.157298  0.454234 -1.583065\n",
              "2020-11-18 -1.984072  0.080076  0.985034 -0.281851"
            ]
          },
          "metadata": {
            "tags": []
          },
          "execution_count": 26
        }
      ]
    },
    {
      "cell_type": "code",
      "metadata": {
        "id": "M6nriGhjS7ss"
      },
      "source": [
        "import pandas as pd\n",
        "import numpy as np\n",
        "\n",
        "df2 = pd.DataFrame(\n",
        "    {\n",
        "        'A': 1.,\n",
        "        'B': pd.Timestamp('20201113'),\n",
        "        'C': pd.Series(1, index=list(range(4)), dtype='float32'),\n",
        "        'D': np.array([3] * 4, dtype='int32'),\n",
        "        'E': pd.Categorical([\"test\", \"train\", \"test\", \"train\"]),\n",
        "        'F': 'foo'\n",
        "     }\n",
        ")"
      ],
      "execution_count": 29,
      "outputs": []
    },
    {
      "cell_type": "code",
      "metadata": {
        "colab": {
          "base_uri": "https://localhost:8080/",
          "height": 173
        },
        "id": "NFLnTKE8UnVe",
        "outputId": "6d51b212-ada4-47a7-da6c-29125afcab45"
      },
      "source": [
        "df2"
      ],
      "execution_count": 30,
      "outputs": [
        {
          "output_type": "execute_result",
          "data": {
            "text/html": [
              "<div>\n",
              "<style scoped>\n",
              "    .dataframe tbody tr th:only-of-type {\n",
              "        vertical-align: middle;\n",
              "    }\n",
              "\n",
              "    .dataframe tbody tr th {\n",
              "        vertical-align: top;\n",
              "    }\n",
              "\n",
              "    .dataframe thead th {\n",
              "        text-align: right;\n",
              "    }\n",
              "</style>\n",
              "<table border=\"1\" class=\"dataframe\">\n",
              "  <thead>\n",
              "    <tr style=\"text-align: right;\">\n",
              "      <th></th>\n",
              "      <th>A</th>\n",
              "      <th>B</th>\n",
              "      <th>C</th>\n",
              "      <th>D</th>\n",
              "      <th>E</th>\n",
              "      <th>F</th>\n",
              "    </tr>\n",
              "  </thead>\n",
              "  <tbody>\n",
              "    <tr>\n",
              "      <th>0</th>\n",
              "      <td>1.0</td>\n",
              "      <td>2020-11-13</td>\n",
              "      <td>1.0</td>\n",
              "      <td>3</td>\n",
              "      <td>test</td>\n",
              "      <td>foo</td>\n",
              "    </tr>\n",
              "    <tr>\n",
              "      <th>1</th>\n",
              "      <td>1.0</td>\n",
              "      <td>2020-11-13</td>\n",
              "      <td>1.0</td>\n",
              "      <td>3</td>\n",
              "      <td>train</td>\n",
              "      <td>foo</td>\n",
              "    </tr>\n",
              "    <tr>\n",
              "      <th>2</th>\n",
              "      <td>1.0</td>\n",
              "      <td>2020-11-13</td>\n",
              "      <td>1.0</td>\n",
              "      <td>3</td>\n",
              "      <td>test</td>\n",
              "      <td>foo</td>\n",
              "    </tr>\n",
              "    <tr>\n",
              "      <th>3</th>\n",
              "      <td>1.0</td>\n",
              "      <td>2020-11-13</td>\n",
              "      <td>1.0</td>\n",
              "      <td>3</td>\n",
              "      <td>train</td>\n",
              "      <td>foo</td>\n",
              "    </tr>\n",
              "  </tbody>\n",
              "</table>\n",
              "</div>"
            ],
            "text/plain": [
              "     A          B    C  D      E    F\n",
              "0  1.0 2020-11-13  1.0  3   test  foo\n",
              "1  1.0 2020-11-13  1.0  3  train  foo\n",
              "2  1.0 2020-11-13  1.0  3   test  foo\n",
              "3  1.0 2020-11-13  1.0  3  train  foo"
            ]
          },
          "metadata": {
            "tags": []
          },
          "execution_count": 30
        }
      ]
    },
    {
      "cell_type": "code",
      "metadata": {
        "id": "GpjpIRryUpDb"
      },
      "source": [
        "dates = pd.date_range('20210430' , periods=6)"
      ],
      "execution_count": 32,
      "outputs": []
    },
    {
      "cell_type": "code",
      "metadata": {
        "id": "qmxiEdSRVt0F"
      },
      "source": [
        "df = pd.DataFrame(np.random.randn(6,4), index=dates, columns=list('ABCD')) "
      ],
      "execution_count": 33,
      "outputs": []
    },
    {
      "cell_type": "code",
      "metadata": {
        "colab": {
          "base_uri": "https://localhost:8080/",
          "height": 235
        },
        "id": "vDsDfUzGVymN",
        "outputId": "0f2a7f77-2ca1-46b6-d1f0-b12fbe73d766"
      },
      "source": [
        "df"
      ],
      "execution_count": 34,
      "outputs": [
        {
          "output_type": "execute_result",
          "data": {
            "text/html": [
              "<div>\n",
              "<style scoped>\n",
              "    .dataframe tbody tr th:only-of-type {\n",
              "        vertical-align: middle;\n",
              "    }\n",
              "\n",
              "    .dataframe tbody tr th {\n",
              "        vertical-align: top;\n",
              "    }\n",
              "\n",
              "    .dataframe thead th {\n",
              "        text-align: right;\n",
              "    }\n",
              "</style>\n",
              "<table border=\"1\" class=\"dataframe\">\n",
              "  <thead>\n",
              "    <tr style=\"text-align: right;\">\n",
              "      <th></th>\n",
              "      <th>A</th>\n",
              "      <th>B</th>\n",
              "      <th>C</th>\n",
              "      <th>D</th>\n",
              "    </tr>\n",
              "  </thead>\n",
              "  <tbody>\n",
              "    <tr>\n",
              "      <th>2021-04-30</th>\n",
              "      <td>0.308982</td>\n",
              "      <td>1.099581</td>\n",
              "      <td>1.013141</td>\n",
              "      <td>1.384868</td>\n",
              "    </tr>\n",
              "    <tr>\n",
              "      <th>2021-05-01</th>\n",
              "      <td>0.412316</td>\n",
              "      <td>1.563515</td>\n",
              "      <td>0.214823</td>\n",
              "      <td>1.131202</td>\n",
              "    </tr>\n",
              "    <tr>\n",
              "      <th>2021-05-02</th>\n",
              "      <td>-1.174356</td>\n",
              "      <td>-0.927297</td>\n",
              "      <td>0.679319</td>\n",
              "      <td>0.314211</td>\n",
              "    </tr>\n",
              "    <tr>\n",
              "      <th>2021-05-03</th>\n",
              "      <td>0.374507</td>\n",
              "      <td>-1.656275</td>\n",
              "      <td>-1.425843</td>\n",
              "      <td>-0.930556</td>\n",
              "    </tr>\n",
              "    <tr>\n",
              "      <th>2021-05-04</th>\n",
              "      <td>0.034391</td>\n",
              "      <td>-1.036879</td>\n",
              "      <td>-0.521683</td>\n",
              "      <td>-0.729389</td>\n",
              "    </tr>\n",
              "    <tr>\n",
              "      <th>2021-05-05</th>\n",
              "      <td>-0.333849</td>\n",
              "      <td>-0.157301</td>\n",
              "      <td>1.047117</td>\n",
              "      <td>1.566103</td>\n",
              "    </tr>\n",
              "  </tbody>\n",
              "</table>\n",
              "</div>"
            ],
            "text/plain": [
              "                   A         B         C         D\n",
              "2021-04-30  0.308982  1.099581  1.013141  1.384868\n",
              "2021-05-01  0.412316  1.563515  0.214823  1.131202\n",
              "2021-05-02 -1.174356 -0.927297  0.679319  0.314211\n",
              "2021-05-03  0.374507 -1.656275 -1.425843 -0.930556\n",
              "2021-05-04  0.034391 -1.036879 -0.521683 -0.729389\n",
              "2021-05-05 -0.333849 -0.157301  1.047117  1.566103"
            ]
          },
          "metadata": {
            "tags": []
          },
          "execution_count": 34
        }
      ]
    },
    {
      "cell_type": "code",
      "metadata": {
        "colab": {
          "base_uri": "https://localhost:8080/",
          "height": 204
        },
        "id": "eKGX22d9V4HE",
        "outputId": "209424f5-e451-425b-9a40-a62838a159d8"
      },
      "source": [
        "df.head()"
      ],
      "execution_count": 35,
      "outputs": [
        {
          "output_type": "execute_result",
          "data": {
            "text/html": [
              "<div>\n",
              "<style scoped>\n",
              "    .dataframe tbody tr th:only-of-type {\n",
              "        vertical-align: middle;\n",
              "    }\n",
              "\n",
              "    .dataframe tbody tr th {\n",
              "        vertical-align: top;\n",
              "    }\n",
              "\n",
              "    .dataframe thead th {\n",
              "        text-align: right;\n",
              "    }\n",
              "</style>\n",
              "<table border=\"1\" class=\"dataframe\">\n",
              "  <thead>\n",
              "    <tr style=\"text-align: right;\">\n",
              "      <th></th>\n",
              "      <th>A</th>\n",
              "      <th>B</th>\n",
              "      <th>C</th>\n",
              "      <th>D</th>\n",
              "    </tr>\n",
              "  </thead>\n",
              "  <tbody>\n",
              "    <tr>\n",
              "      <th>2021-04-30</th>\n",
              "      <td>0.308982</td>\n",
              "      <td>1.099581</td>\n",
              "      <td>1.013141</td>\n",
              "      <td>1.384868</td>\n",
              "    </tr>\n",
              "    <tr>\n",
              "      <th>2021-05-01</th>\n",
              "      <td>0.412316</td>\n",
              "      <td>1.563515</td>\n",
              "      <td>0.214823</td>\n",
              "      <td>1.131202</td>\n",
              "    </tr>\n",
              "    <tr>\n",
              "      <th>2021-05-02</th>\n",
              "      <td>-1.174356</td>\n",
              "      <td>-0.927297</td>\n",
              "      <td>0.679319</td>\n",
              "      <td>0.314211</td>\n",
              "    </tr>\n",
              "    <tr>\n",
              "      <th>2021-05-03</th>\n",
              "      <td>0.374507</td>\n",
              "      <td>-1.656275</td>\n",
              "      <td>-1.425843</td>\n",
              "      <td>-0.930556</td>\n",
              "    </tr>\n",
              "    <tr>\n",
              "      <th>2021-05-04</th>\n",
              "      <td>0.034391</td>\n",
              "      <td>-1.036879</td>\n",
              "      <td>-0.521683</td>\n",
              "      <td>-0.729389</td>\n",
              "    </tr>\n",
              "  </tbody>\n",
              "</table>\n",
              "</div>"
            ],
            "text/plain": [
              "                   A         B         C         D\n",
              "2021-04-30  0.308982  1.099581  1.013141  1.384868\n",
              "2021-05-01  0.412316  1.563515  0.214823  1.131202\n",
              "2021-05-02 -1.174356 -0.927297  0.679319  0.314211\n",
              "2021-05-03  0.374507 -1.656275 -1.425843 -0.930556\n",
              "2021-05-04  0.034391 -1.036879 -0.521683 -0.729389"
            ]
          },
          "metadata": {
            "tags": []
          },
          "execution_count": 35
        }
      ]
    },
    {
      "cell_type": "code",
      "metadata": {
        "colab": {
          "base_uri": "https://localhost:8080/",
          "height": 80
        },
        "id": "wIUNhzGHWLsx",
        "outputId": "68981668-5ab8-4f8c-b852-5df8746eaeba"
      },
      "source": [
        "df.tail(1)"
      ],
      "execution_count": 39,
      "outputs": [
        {
          "output_type": "execute_result",
          "data": {
            "text/html": [
              "<div>\n",
              "<style scoped>\n",
              "    .dataframe tbody tr th:only-of-type {\n",
              "        vertical-align: middle;\n",
              "    }\n",
              "\n",
              "    .dataframe tbody tr th {\n",
              "        vertical-align: top;\n",
              "    }\n",
              "\n",
              "    .dataframe thead th {\n",
              "        text-align: right;\n",
              "    }\n",
              "</style>\n",
              "<table border=\"1\" class=\"dataframe\">\n",
              "  <thead>\n",
              "    <tr style=\"text-align: right;\">\n",
              "      <th></th>\n",
              "      <th>A</th>\n",
              "      <th>B</th>\n",
              "      <th>C</th>\n",
              "      <th>D</th>\n",
              "    </tr>\n",
              "  </thead>\n",
              "  <tbody>\n",
              "    <tr>\n",
              "      <th>2021-05-05</th>\n",
              "      <td>-0.333849</td>\n",
              "      <td>-0.157301</td>\n",
              "      <td>1.047117</td>\n",
              "      <td>1.566103</td>\n",
              "    </tr>\n",
              "  </tbody>\n",
              "</table>\n",
              "</div>"
            ],
            "text/plain": [
              "                   A         B         C         D\n",
              "2021-05-05 -0.333849 -0.157301  1.047117  1.566103"
            ]
          },
          "metadata": {
            "tags": []
          },
          "execution_count": 39
        }
      ]
    },
    {
      "cell_type": "code",
      "metadata": {
        "colab": {
          "base_uri": "https://localhost:8080/",
          "height": 142
        },
        "id": "4cwEUUiXWR-B",
        "outputId": "d6eae610-1e9d-4e62-993e-c78b6e490eb1"
      },
      "source": [
        "df.head(3)"
      ],
      "execution_count": 40,
      "outputs": [
        {
          "output_type": "execute_result",
          "data": {
            "text/html": [
              "<div>\n",
              "<style scoped>\n",
              "    .dataframe tbody tr th:only-of-type {\n",
              "        vertical-align: middle;\n",
              "    }\n",
              "\n",
              "    .dataframe tbody tr th {\n",
              "        vertical-align: top;\n",
              "    }\n",
              "\n",
              "    .dataframe thead th {\n",
              "        text-align: right;\n",
              "    }\n",
              "</style>\n",
              "<table border=\"1\" class=\"dataframe\">\n",
              "  <thead>\n",
              "    <tr style=\"text-align: right;\">\n",
              "      <th></th>\n",
              "      <th>A</th>\n",
              "      <th>B</th>\n",
              "      <th>C</th>\n",
              "      <th>D</th>\n",
              "    </tr>\n",
              "  </thead>\n",
              "  <tbody>\n",
              "    <tr>\n",
              "      <th>2021-04-30</th>\n",
              "      <td>0.308982</td>\n",
              "      <td>1.099581</td>\n",
              "      <td>1.013141</td>\n",
              "      <td>1.384868</td>\n",
              "    </tr>\n",
              "    <tr>\n",
              "      <th>2021-05-01</th>\n",
              "      <td>0.412316</td>\n",
              "      <td>1.563515</td>\n",
              "      <td>0.214823</td>\n",
              "      <td>1.131202</td>\n",
              "    </tr>\n",
              "    <tr>\n",
              "      <th>2021-05-02</th>\n",
              "      <td>-1.174356</td>\n",
              "      <td>-0.927297</td>\n",
              "      <td>0.679319</td>\n",
              "      <td>0.314211</td>\n",
              "    </tr>\n",
              "  </tbody>\n",
              "</table>\n",
              "</div>"
            ],
            "text/plain": [
              "                   A         B         C         D\n",
              "2021-04-30  0.308982  1.099581  1.013141  1.384868\n",
              "2021-05-01  0.412316  1.563515  0.214823  1.131202\n",
              "2021-05-02 -1.174356 -0.927297  0.679319  0.314211"
            ]
          },
          "metadata": {
            "tags": []
          },
          "execution_count": 40
        }
      ]
    },
    {
      "cell_type": "code",
      "metadata": {
        "colab": {
          "base_uri": "https://localhost:8080/"
        },
        "id": "MXQfpMHOWl8a",
        "outputId": "039db61e-fbcf-43d4-b785-f1152f0b6fa7"
      },
      "source": [
        "dates"
      ],
      "execution_count": 41,
      "outputs": [
        {
          "output_type": "execute_result",
          "data": {
            "text/plain": [
              "DatetimeIndex(['2021-04-30', '2021-05-01', '2021-05-02', '2021-05-03',\n",
              "               '2021-05-04', '2021-05-05'],\n",
              "              dtype='datetime64[ns]', freq='D')"
            ]
          },
          "metadata": {
            "tags": []
          },
          "execution_count": 41
        }
      ]
    },
    {
      "cell_type": "code",
      "metadata": {
        "colab": {
          "base_uri": "https://localhost:8080/",
          "height": 235
        },
        "id": "8C4eWpdMWqWB",
        "outputId": "4de593db-c1a0-47fe-ce65-e53f0cb3cb21"
      },
      "source": [
        "df"
      ],
      "execution_count": 42,
      "outputs": [
        {
          "output_type": "execute_result",
          "data": {
            "text/html": [
              "<div>\n",
              "<style scoped>\n",
              "    .dataframe tbody tr th:only-of-type {\n",
              "        vertical-align: middle;\n",
              "    }\n",
              "\n",
              "    .dataframe tbody tr th {\n",
              "        vertical-align: top;\n",
              "    }\n",
              "\n",
              "    .dataframe thead th {\n",
              "        text-align: right;\n",
              "    }\n",
              "</style>\n",
              "<table border=\"1\" class=\"dataframe\">\n",
              "  <thead>\n",
              "    <tr style=\"text-align: right;\">\n",
              "      <th></th>\n",
              "      <th>A</th>\n",
              "      <th>B</th>\n",
              "      <th>C</th>\n",
              "      <th>D</th>\n",
              "    </tr>\n",
              "  </thead>\n",
              "  <tbody>\n",
              "    <tr>\n",
              "      <th>2021-04-30</th>\n",
              "      <td>0.308982</td>\n",
              "      <td>1.099581</td>\n",
              "      <td>1.013141</td>\n",
              "      <td>1.384868</td>\n",
              "    </tr>\n",
              "    <tr>\n",
              "      <th>2021-05-01</th>\n",
              "      <td>0.412316</td>\n",
              "      <td>1.563515</td>\n",
              "      <td>0.214823</td>\n",
              "      <td>1.131202</td>\n",
              "    </tr>\n",
              "    <tr>\n",
              "      <th>2021-05-02</th>\n",
              "      <td>-1.174356</td>\n",
              "      <td>-0.927297</td>\n",
              "      <td>0.679319</td>\n",
              "      <td>0.314211</td>\n",
              "    </tr>\n",
              "    <tr>\n",
              "      <th>2021-05-03</th>\n",
              "      <td>0.374507</td>\n",
              "      <td>-1.656275</td>\n",
              "      <td>-1.425843</td>\n",
              "      <td>-0.930556</td>\n",
              "    </tr>\n",
              "    <tr>\n",
              "      <th>2021-05-04</th>\n",
              "      <td>0.034391</td>\n",
              "      <td>-1.036879</td>\n",
              "      <td>-0.521683</td>\n",
              "      <td>-0.729389</td>\n",
              "    </tr>\n",
              "    <tr>\n",
              "      <th>2021-05-05</th>\n",
              "      <td>-0.333849</td>\n",
              "      <td>-0.157301</td>\n",
              "      <td>1.047117</td>\n",
              "      <td>1.566103</td>\n",
              "    </tr>\n",
              "  </tbody>\n",
              "</table>\n",
              "</div>"
            ],
            "text/plain": [
              "                   A         B         C         D\n",
              "2021-04-30  0.308982  1.099581  1.013141  1.384868\n",
              "2021-05-01  0.412316  1.563515  0.214823  1.131202\n",
              "2021-05-02 -1.174356 -0.927297  0.679319  0.314211\n",
              "2021-05-03  0.374507 -1.656275 -1.425843 -0.930556\n",
              "2021-05-04  0.034391 -1.036879 -0.521683 -0.729389\n",
              "2021-05-05 -0.333849 -0.157301  1.047117  1.566103"
            ]
          },
          "metadata": {
            "tags": []
          },
          "execution_count": 42
        }
      ]
    },
    {
      "cell_type": "code",
      "metadata": {
        "colab": {
          "base_uri": "https://localhost:8080/"
        },
        "id": "lmXTEa7eWqyp",
        "outputId": "837d5cf2-1dbb-4de5-de26-2eec93d3c180"
      },
      "source": [
        "df.index"
      ],
      "execution_count": 43,
      "outputs": [
        {
          "output_type": "execute_result",
          "data": {
            "text/plain": [
              "DatetimeIndex(['2021-04-30', '2021-05-01', '2021-05-02', '2021-05-03',\n",
              "               '2021-05-04', '2021-05-05'],\n",
              "              dtype='datetime64[ns]', freq='D')"
            ]
          },
          "metadata": {
            "tags": []
          },
          "execution_count": 43
        }
      ]
    },
    {
      "cell_type": "code",
      "metadata": {
        "colab": {
          "base_uri": "https://localhost:8080/"
        },
        "id": "LME6OQkmW0tJ",
        "outputId": "ba9628d6-dc50-4ac3-f1b1-ea8bdf18724e"
      },
      "source": [
        "df.columns"
      ],
      "execution_count": 44,
      "outputs": [
        {
          "output_type": "execute_result",
          "data": {
            "text/plain": [
              "Index(['A', 'B', 'C', 'D'], dtype='object')"
            ]
          },
          "metadata": {
            "tags": []
          },
          "execution_count": 44
        }
      ]
    },
    {
      "cell_type": "code",
      "metadata": {
        "colab": {
          "base_uri": "https://localhost:8080/"
        },
        "id": "jOpeJpcHXF7S",
        "outputId": "73a2cc12-35d8-4eed-ccdb-5251e45426f2"
      },
      "source": [
        "df.values"
      ],
      "execution_count": 45,
      "outputs": [
        {
          "output_type": "execute_result",
          "data": {
            "text/plain": [
              "array([[ 0.30898165,  1.0995814 ,  1.0131407 ,  1.38486807],\n",
              "       [ 0.41231616,  1.56351517,  0.21482288,  1.13120217],\n",
              "       [-1.17435611, -0.92729682,  0.67931889,  0.31421052],\n",
              "       [ 0.37450744, -1.6562748 , -1.42584342, -0.93055562],\n",
              "       [ 0.03439087, -1.03687935, -0.52168318, -0.72938908],\n",
              "       [-0.33384893, -0.15730108,  1.04711682,  1.56610264]])"
            ]
          },
          "metadata": {
            "tags": []
          },
          "execution_count": 45
        }
      ]
    },
    {
      "cell_type": "code",
      "metadata": {
        "colab": {
          "base_uri": "https://localhost:8080/",
          "height": 297
        },
        "id": "qbghO7fEXLZF",
        "outputId": "b7a3b4b0-d979-431d-dab4-9360096dfc90"
      },
      "source": [
        "df.describe()"
      ],
      "execution_count": 46,
      "outputs": [
        {
          "output_type": "execute_result",
          "data": {
            "text/html": [
              "<div>\n",
              "<style scoped>\n",
              "    .dataframe tbody tr th:only-of-type {\n",
              "        vertical-align: middle;\n",
              "    }\n",
              "\n",
              "    .dataframe tbody tr th {\n",
              "        vertical-align: top;\n",
              "    }\n",
              "\n",
              "    .dataframe thead th {\n",
              "        text-align: right;\n",
              "    }\n",
              "</style>\n",
              "<table border=\"1\" class=\"dataframe\">\n",
              "  <thead>\n",
              "    <tr style=\"text-align: right;\">\n",
              "      <th></th>\n",
              "      <th>A</th>\n",
              "      <th>B</th>\n",
              "      <th>C</th>\n",
              "      <th>D</th>\n",
              "    </tr>\n",
              "  </thead>\n",
              "  <tbody>\n",
              "    <tr>\n",
              "      <th>count</th>\n",
              "      <td>6.000000</td>\n",
              "      <td>6.000000</td>\n",
              "      <td>6.000000</td>\n",
              "      <td>6.000000</td>\n",
              "    </tr>\n",
              "    <tr>\n",
              "      <th>mean</th>\n",
              "      <td>-0.063001</td>\n",
              "      <td>-0.185776</td>\n",
              "      <td>0.167812</td>\n",
              "      <td>0.456073</td>\n",
              "    </tr>\n",
              "    <tr>\n",
              "      <th>std</th>\n",
              "      <td>0.612154</td>\n",
              "      <td>1.276681</td>\n",
              "      <td>0.976396</td>\n",
              "      <td>1.086168</td>\n",
              "    </tr>\n",
              "    <tr>\n",
              "      <th>min</th>\n",
              "      <td>-1.174356</td>\n",
              "      <td>-1.656275</td>\n",
              "      <td>-1.425843</td>\n",
              "      <td>-0.930556</td>\n",
              "    </tr>\n",
              "    <tr>\n",
              "      <th>25%</th>\n",
              "      <td>-0.241789</td>\n",
              "      <td>-1.009484</td>\n",
              "      <td>-0.337557</td>\n",
              "      <td>-0.468489</td>\n",
              "    </tr>\n",
              "    <tr>\n",
              "      <th>50%</th>\n",
              "      <td>0.171686</td>\n",
              "      <td>-0.542299</td>\n",
              "      <td>0.447071</td>\n",
              "      <td>0.722706</td>\n",
              "    </tr>\n",
              "    <tr>\n",
              "      <th>75%</th>\n",
              "      <td>0.358126</td>\n",
              "      <td>0.785361</td>\n",
              "      <td>0.929685</td>\n",
              "      <td>1.321452</td>\n",
              "    </tr>\n",
              "    <tr>\n",
              "      <th>max</th>\n",
              "      <td>0.412316</td>\n",
              "      <td>1.563515</td>\n",
              "      <td>1.047117</td>\n",
              "      <td>1.566103</td>\n",
              "    </tr>\n",
              "  </tbody>\n",
              "</table>\n",
              "</div>"
            ],
            "text/plain": [
              "              A         B         C         D\n",
              "count  6.000000  6.000000  6.000000  6.000000\n",
              "mean  -0.063001 -0.185776  0.167812  0.456073\n",
              "std    0.612154  1.276681  0.976396  1.086168\n",
              "min   -1.174356 -1.656275 -1.425843 -0.930556\n",
              "25%   -0.241789 -1.009484 -0.337557 -0.468489\n",
              "50%    0.171686 -0.542299  0.447071  0.722706\n",
              "75%    0.358126  0.785361  0.929685  1.321452\n",
              "max    0.412316  1.563515  1.047117  1.566103"
            ]
          },
          "metadata": {
            "tags": []
          },
          "execution_count": 46
        }
      ]
    },
    {
      "cell_type": "code",
      "metadata": {
        "colab": {
          "base_uri": "https://localhost:8080/",
          "height": 235
        },
        "id": "1Rsqy2T6XUPR",
        "outputId": "8ad3b071-473a-4383-b45f-7744004b102a"
      },
      "source": [
        "df"
      ],
      "execution_count": 47,
      "outputs": [
        {
          "output_type": "execute_result",
          "data": {
            "text/html": [
              "<div>\n",
              "<style scoped>\n",
              "    .dataframe tbody tr th:only-of-type {\n",
              "        vertical-align: middle;\n",
              "    }\n",
              "\n",
              "    .dataframe tbody tr th {\n",
              "        vertical-align: top;\n",
              "    }\n",
              "\n",
              "    .dataframe thead th {\n",
              "        text-align: right;\n",
              "    }\n",
              "</style>\n",
              "<table border=\"1\" class=\"dataframe\">\n",
              "  <thead>\n",
              "    <tr style=\"text-align: right;\">\n",
              "      <th></th>\n",
              "      <th>A</th>\n",
              "      <th>B</th>\n",
              "      <th>C</th>\n",
              "      <th>D</th>\n",
              "    </tr>\n",
              "  </thead>\n",
              "  <tbody>\n",
              "    <tr>\n",
              "      <th>2021-04-30</th>\n",
              "      <td>0.308982</td>\n",
              "      <td>1.099581</td>\n",
              "      <td>1.013141</td>\n",
              "      <td>1.384868</td>\n",
              "    </tr>\n",
              "    <tr>\n",
              "      <th>2021-05-01</th>\n",
              "      <td>0.412316</td>\n",
              "      <td>1.563515</td>\n",
              "      <td>0.214823</td>\n",
              "      <td>1.131202</td>\n",
              "    </tr>\n",
              "    <tr>\n",
              "      <th>2021-05-02</th>\n",
              "      <td>-1.174356</td>\n",
              "      <td>-0.927297</td>\n",
              "      <td>0.679319</td>\n",
              "      <td>0.314211</td>\n",
              "    </tr>\n",
              "    <tr>\n",
              "      <th>2021-05-03</th>\n",
              "      <td>0.374507</td>\n",
              "      <td>-1.656275</td>\n",
              "      <td>-1.425843</td>\n",
              "      <td>-0.930556</td>\n",
              "    </tr>\n",
              "    <tr>\n",
              "      <th>2021-05-04</th>\n",
              "      <td>0.034391</td>\n",
              "      <td>-1.036879</td>\n",
              "      <td>-0.521683</td>\n",
              "      <td>-0.729389</td>\n",
              "    </tr>\n",
              "    <tr>\n",
              "      <th>2021-05-05</th>\n",
              "      <td>-0.333849</td>\n",
              "      <td>-0.157301</td>\n",
              "      <td>1.047117</td>\n",
              "      <td>1.566103</td>\n",
              "    </tr>\n",
              "  </tbody>\n",
              "</table>\n",
              "</div>"
            ],
            "text/plain": [
              "                   A         B         C         D\n",
              "2021-04-30  0.308982  1.099581  1.013141  1.384868\n",
              "2021-05-01  0.412316  1.563515  0.214823  1.131202\n",
              "2021-05-02 -1.174356 -0.927297  0.679319  0.314211\n",
              "2021-05-03  0.374507 -1.656275 -1.425843 -0.930556\n",
              "2021-05-04  0.034391 -1.036879 -0.521683 -0.729389\n",
              "2021-05-05 -0.333849 -0.157301  1.047117  1.566103"
            ]
          },
          "metadata": {
            "tags": []
          },
          "execution_count": 47
        }
      ]
    },
    {
      "cell_type": "code",
      "metadata": {
        "colab": {
          "base_uri": "https://localhost:8080/",
          "height": 173
        },
        "id": "LYzbQ9jYX2QK",
        "outputId": "7d7aa75d-6429-4920-a3c4-a2ec40614814"
      },
      "source": [
        "df.T"
      ],
      "execution_count": 49,
      "outputs": [
        {
          "output_type": "execute_result",
          "data": {
            "text/html": [
              "<div>\n",
              "<style scoped>\n",
              "    .dataframe tbody tr th:only-of-type {\n",
              "        vertical-align: middle;\n",
              "    }\n",
              "\n",
              "    .dataframe tbody tr th {\n",
              "        vertical-align: top;\n",
              "    }\n",
              "\n",
              "    .dataframe thead th {\n",
              "        text-align: right;\n",
              "    }\n",
              "</style>\n",
              "<table border=\"1\" class=\"dataframe\">\n",
              "  <thead>\n",
              "    <tr style=\"text-align: right;\">\n",
              "      <th></th>\n",
              "      <th>2021-04-30</th>\n",
              "      <th>2021-05-01</th>\n",
              "      <th>2021-05-02</th>\n",
              "      <th>2021-05-03</th>\n",
              "      <th>2021-05-04</th>\n",
              "      <th>2021-05-05</th>\n",
              "    </tr>\n",
              "  </thead>\n",
              "  <tbody>\n",
              "    <tr>\n",
              "      <th>A</th>\n",
              "      <td>0.308982</td>\n",
              "      <td>0.412316</td>\n",
              "      <td>-1.174356</td>\n",
              "      <td>0.374507</td>\n",
              "      <td>0.034391</td>\n",
              "      <td>-0.333849</td>\n",
              "    </tr>\n",
              "    <tr>\n",
              "      <th>B</th>\n",
              "      <td>1.099581</td>\n",
              "      <td>1.563515</td>\n",
              "      <td>-0.927297</td>\n",
              "      <td>-1.656275</td>\n",
              "      <td>-1.036879</td>\n",
              "      <td>-0.157301</td>\n",
              "    </tr>\n",
              "    <tr>\n",
              "      <th>C</th>\n",
              "      <td>1.013141</td>\n",
              "      <td>0.214823</td>\n",
              "      <td>0.679319</td>\n",
              "      <td>-1.425843</td>\n",
              "      <td>-0.521683</td>\n",
              "      <td>1.047117</td>\n",
              "    </tr>\n",
              "    <tr>\n",
              "      <th>D</th>\n",
              "      <td>1.384868</td>\n",
              "      <td>1.131202</td>\n",
              "      <td>0.314211</td>\n",
              "      <td>-0.930556</td>\n",
              "      <td>-0.729389</td>\n",
              "      <td>1.566103</td>\n",
              "    </tr>\n",
              "  </tbody>\n",
              "</table>\n",
              "</div>"
            ],
            "text/plain": [
              "   2021-04-30  2021-05-01  2021-05-02  2021-05-03  2021-05-04  2021-05-05\n",
              "A    0.308982    0.412316   -1.174356    0.374507    0.034391   -0.333849\n",
              "B    1.099581    1.563515   -0.927297   -1.656275   -1.036879   -0.157301\n",
              "C    1.013141    0.214823    0.679319   -1.425843   -0.521683    1.047117\n",
              "D    1.384868    1.131202    0.314211   -0.930556   -0.729389    1.566103"
            ]
          },
          "metadata": {
            "tags": []
          },
          "execution_count": 49
        }
      ]
    },
    {
      "cell_type": "code",
      "metadata": {
        "colab": {
          "base_uri": "https://localhost:8080/",
          "height": 235
        },
        "id": "q8eZNkGLX3oG",
        "outputId": "b2e6e624-817c-42b1-8a40-defe72d89ebc"
      },
      "source": [
        "df"
      ],
      "execution_count": 50,
      "outputs": [
        {
          "output_type": "execute_result",
          "data": {
            "text/html": [
              "<div>\n",
              "<style scoped>\n",
              "    .dataframe tbody tr th:only-of-type {\n",
              "        vertical-align: middle;\n",
              "    }\n",
              "\n",
              "    .dataframe tbody tr th {\n",
              "        vertical-align: top;\n",
              "    }\n",
              "\n",
              "    .dataframe thead th {\n",
              "        text-align: right;\n",
              "    }\n",
              "</style>\n",
              "<table border=\"1\" class=\"dataframe\">\n",
              "  <thead>\n",
              "    <tr style=\"text-align: right;\">\n",
              "      <th></th>\n",
              "      <th>A</th>\n",
              "      <th>B</th>\n",
              "      <th>C</th>\n",
              "      <th>D</th>\n",
              "    </tr>\n",
              "  </thead>\n",
              "  <tbody>\n",
              "    <tr>\n",
              "      <th>2021-04-30</th>\n",
              "      <td>0.308982</td>\n",
              "      <td>1.099581</td>\n",
              "      <td>1.013141</td>\n",
              "      <td>1.384868</td>\n",
              "    </tr>\n",
              "    <tr>\n",
              "      <th>2021-05-01</th>\n",
              "      <td>0.412316</td>\n",
              "      <td>1.563515</td>\n",
              "      <td>0.214823</td>\n",
              "      <td>1.131202</td>\n",
              "    </tr>\n",
              "    <tr>\n",
              "      <th>2021-05-02</th>\n",
              "      <td>-1.174356</td>\n",
              "      <td>-0.927297</td>\n",
              "      <td>0.679319</td>\n",
              "      <td>0.314211</td>\n",
              "    </tr>\n",
              "    <tr>\n",
              "      <th>2021-05-03</th>\n",
              "      <td>0.374507</td>\n",
              "      <td>-1.656275</td>\n",
              "      <td>-1.425843</td>\n",
              "      <td>-0.930556</td>\n",
              "    </tr>\n",
              "    <tr>\n",
              "      <th>2021-05-04</th>\n",
              "      <td>0.034391</td>\n",
              "      <td>-1.036879</td>\n",
              "      <td>-0.521683</td>\n",
              "      <td>-0.729389</td>\n",
              "    </tr>\n",
              "    <tr>\n",
              "      <th>2021-05-05</th>\n",
              "      <td>-0.333849</td>\n",
              "      <td>-0.157301</td>\n",
              "      <td>1.047117</td>\n",
              "      <td>1.566103</td>\n",
              "    </tr>\n",
              "  </tbody>\n",
              "</table>\n",
              "</div>"
            ],
            "text/plain": [
              "                   A         B         C         D\n",
              "2021-04-30  0.308982  1.099581  1.013141  1.384868\n",
              "2021-05-01  0.412316  1.563515  0.214823  1.131202\n",
              "2021-05-02 -1.174356 -0.927297  0.679319  0.314211\n",
              "2021-05-03  0.374507 -1.656275 -1.425843 -0.930556\n",
              "2021-05-04  0.034391 -1.036879 -0.521683 -0.729389\n",
              "2021-05-05 -0.333849 -0.157301  1.047117  1.566103"
            ]
          },
          "metadata": {
            "tags": []
          },
          "execution_count": 50
        }
      ]
    },
    {
      "cell_type": "code",
      "metadata": {
        "colab": {
          "base_uri": "https://localhost:8080/",
          "height": 235
        },
        "id": "ncmaX_n3YJ8S",
        "outputId": "f32a6a65-fe11-49c7-ab88-0f5bb395e41e"
      },
      "source": [
        "df.sort_index(axis=0,ascending=True)"
      ],
      "execution_count": 55,
      "outputs": [
        {
          "output_type": "execute_result",
          "data": {
            "text/html": [
              "<div>\n",
              "<style scoped>\n",
              "    .dataframe tbody tr th:only-of-type {\n",
              "        vertical-align: middle;\n",
              "    }\n",
              "\n",
              "    .dataframe tbody tr th {\n",
              "        vertical-align: top;\n",
              "    }\n",
              "\n",
              "    .dataframe thead th {\n",
              "        text-align: right;\n",
              "    }\n",
              "</style>\n",
              "<table border=\"1\" class=\"dataframe\">\n",
              "  <thead>\n",
              "    <tr style=\"text-align: right;\">\n",
              "      <th></th>\n",
              "      <th>A</th>\n",
              "      <th>B</th>\n",
              "      <th>C</th>\n",
              "      <th>D</th>\n",
              "    </tr>\n",
              "  </thead>\n",
              "  <tbody>\n",
              "    <tr>\n",
              "      <th>2021-04-30</th>\n",
              "      <td>0.308982</td>\n",
              "      <td>1.099581</td>\n",
              "      <td>1.013141</td>\n",
              "      <td>1.384868</td>\n",
              "    </tr>\n",
              "    <tr>\n",
              "      <th>2021-05-01</th>\n",
              "      <td>0.412316</td>\n",
              "      <td>1.563515</td>\n",
              "      <td>0.214823</td>\n",
              "      <td>1.131202</td>\n",
              "    </tr>\n",
              "    <tr>\n",
              "      <th>2021-05-02</th>\n",
              "      <td>-1.174356</td>\n",
              "      <td>-0.927297</td>\n",
              "      <td>0.679319</td>\n",
              "      <td>0.314211</td>\n",
              "    </tr>\n",
              "    <tr>\n",
              "      <th>2021-05-03</th>\n",
              "      <td>0.374507</td>\n",
              "      <td>-1.656275</td>\n",
              "      <td>-1.425843</td>\n",
              "      <td>-0.930556</td>\n",
              "    </tr>\n",
              "    <tr>\n",
              "      <th>2021-05-04</th>\n",
              "      <td>0.034391</td>\n",
              "      <td>-1.036879</td>\n",
              "      <td>-0.521683</td>\n",
              "      <td>-0.729389</td>\n",
              "    </tr>\n",
              "    <tr>\n",
              "      <th>2021-05-05</th>\n",
              "      <td>-0.333849</td>\n",
              "      <td>-0.157301</td>\n",
              "      <td>1.047117</td>\n",
              "      <td>1.566103</td>\n",
              "    </tr>\n",
              "  </tbody>\n",
              "</table>\n",
              "</div>"
            ],
            "text/plain": [
              "                   A         B         C         D\n",
              "2021-04-30  0.308982  1.099581  1.013141  1.384868\n",
              "2021-05-01  0.412316  1.563515  0.214823  1.131202\n",
              "2021-05-02 -1.174356 -0.927297  0.679319  0.314211\n",
              "2021-05-03  0.374507 -1.656275 -1.425843 -0.930556\n",
              "2021-05-04  0.034391 -1.036879 -0.521683 -0.729389\n",
              "2021-05-05 -0.333849 -0.157301  1.047117  1.566103"
            ]
          },
          "metadata": {
            "tags": []
          },
          "execution_count": 55
        }
      ]
    },
    {
      "cell_type": "code",
      "metadata": {
        "colab": {
          "base_uri": "https://localhost:8080/",
          "height": 235
        },
        "id": "SNUBSGdxYXLy",
        "outputId": "eba1c188-94d3-48f7-eadc-f1451aa3d8f1"
      },
      "source": [
        "df.sort_index(axis=0,ascending=False)\n"
      ],
      "execution_count": 56,
      "outputs": [
        {
          "output_type": "execute_result",
          "data": {
            "text/html": [
              "<div>\n",
              "<style scoped>\n",
              "    .dataframe tbody tr th:only-of-type {\n",
              "        vertical-align: middle;\n",
              "    }\n",
              "\n",
              "    .dataframe tbody tr th {\n",
              "        vertical-align: top;\n",
              "    }\n",
              "\n",
              "    .dataframe thead th {\n",
              "        text-align: right;\n",
              "    }\n",
              "</style>\n",
              "<table border=\"1\" class=\"dataframe\">\n",
              "  <thead>\n",
              "    <tr style=\"text-align: right;\">\n",
              "      <th></th>\n",
              "      <th>A</th>\n",
              "      <th>B</th>\n",
              "      <th>C</th>\n",
              "      <th>D</th>\n",
              "    </tr>\n",
              "  </thead>\n",
              "  <tbody>\n",
              "    <tr>\n",
              "      <th>2021-05-05</th>\n",
              "      <td>-0.333849</td>\n",
              "      <td>-0.157301</td>\n",
              "      <td>1.047117</td>\n",
              "      <td>1.566103</td>\n",
              "    </tr>\n",
              "    <tr>\n",
              "      <th>2021-05-04</th>\n",
              "      <td>0.034391</td>\n",
              "      <td>-1.036879</td>\n",
              "      <td>-0.521683</td>\n",
              "      <td>-0.729389</td>\n",
              "    </tr>\n",
              "    <tr>\n",
              "      <th>2021-05-03</th>\n",
              "      <td>0.374507</td>\n",
              "      <td>-1.656275</td>\n",
              "      <td>-1.425843</td>\n",
              "      <td>-0.930556</td>\n",
              "    </tr>\n",
              "    <tr>\n",
              "      <th>2021-05-02</th>\n",
              "      <td>-1.174356</td>\n",
              "      <td>-0.927297</td>\n",
              "      <td>0.679319</td>\n",
              "      <td>0.314211</td>\n",
              "    </tr>\n",
              "    <tr>\n",
              "      <th>2021-05-01</th>\n",
              "      <td>0.412316</td>\n",
              "      <td>1.563515</td>\n",
              "      <td>0.214823</td>\n",
              "      <td>1.131202</td>\n",
              "    </tr>\n",
              "    <tr>\n",
              "      <th>2021-04-30</th>\n",
              "      <td>0.308982</td>\n",
              "      <td>1.099581</td>\n",
              "      <td>1.013141</td>\n",
              "      <td>1.384868</td>\n",
              "    </tr>\n",
              "  </tbody>\n",
              "</table>\n",
              "</div>"
            ],
            "text/plain": [
              "                   A         B         C         D\n",
              "2021-05-05 -0.333849 -0.157301  1.047117  1.566103\n",
              "2021-05-04  0.034391 -1.036879 -0.521683 -0.729389\n",
              "2021-05-03  0.374507 -1.656275 -1.425843 -0.930556\n",
              "2021-05-02 -1.174356 -0.927297  0.679319  0.314211\n",
              "2021-05-01  0.412316  1.563515  0.214823  1.131202\n",
              "2021-04-30  0.308982  1.099581  1.013141  1.384868"
            ]
          },
          "metadata": {
            "tags": []
          },
          "execution_count": 56
        }
      ]
    },
    {
      "cell_type": "code",
      "metadata": {
        "colab": {
          "base_uri": "https://localhost:8080/",
          "height": 235
        },
        "id": "1MMzq4ZzYymk",
        "outputId": "1ce2e05a-2171-436b-bd8f-42c7a7c90d09"
      },
      "source": [
        "df"
      ],
      "execution_count": 57,
      "outputs": [
        {
          "output_type": "execute_result",
          "data": {
            "text/html": [
              "<div>\n",
              "<style scoped>\n",
              "    .dataframe tbody tr th:only-of-type {\n",
              "        vertical-align: middle;\n",
              "    }\n",
              "\n",
              "    .dataframe tbody tr th {\n",
              "        vertical-align: top;\n",
              "    }\n",
              "\n",
              "    .dataframe thead th {\n",
              "        text-align: right;\n",
              "    }\n",
              "</style>\n",
              "<table border=\"1\" class=\"dataframe\">\n",
              "  <thead>\n",
              "    <tr style=\"text-align: right;\">\n",
              "      <th></th>\n",
              "      <th>A</th>\n",
              "      <th>B</th>\n",
              "      <th>C</th>\n",
              "      <th>D</th>\n",
              "    </tr>\n",
              "  </thead>\n",
              "  <tbody>\n",
              "    <tr>\n",
              "      <th>2021-04-30</th>\n",
              "      <td>0.308982</td>\n",
              "      <td>1.099581</td>\n",
              "      <td>1.013141</td>\n",
              "      <td>1.384868</td>\n",
              "    </tr>\n",
              "    <tr>\n",
              "      <th>2021-05-01</th>\n",
              "      <td>0.412316</td>\n",
              "      <td>1.563515</td>\n",
              "      <td>0.214823</td>\n",
              "      <td>1.131202</td>\n",
              "    </tr>\n",
              "    <tr>\n",
              "      <th>2021-05-02</th>\n",
              "      <td>-1.174356</td>\n",
              "      <td>-0.927297</td>\n",
              "      <td>0.679319</td>\n",
              "      <td>0.314211</td>\n",
              "    </tr>\n",
              "    <tr>\n",
              "      <th>2021-05-03</th>\n",
              "      <td>0.374507</td>\n",
              "      <td>-1.656275</td>\n",
              "      <td>-1.425843</td>\n",
              "      <td>-0.930556</td>\n",
              "    </tr>\n",
              "    <tr>\n",
              "      <th>2021-05-04</th>\n",
              "      <td>0.034391</td>\n",
              "      <td>-1.036879</td>\n",
              "      <td>-0.521683</td>\n",
              "      <td>-0.729389</td>\n",
              "    </tr>\n",
              "    <tr>\n",
              "      <th>2021-05-05</th>\n",
              "      <td>-0.333849</td>\n",
              "      <td>-0.157301</td>\n",
              "      <td>1.047117</td>\n",
              "      <td>1.566103</td>\n",
              "    </tr>\n",
              "  </tbody>\n",
              "</table>\n",
              "</div>"
            ],
            "text/plain": [
              "                   A         B         C         D\n",
              "2021-04-30  0.308982  1.099581  1.013141  1.384868\n",
              "2021-05-01  0.412316  1.563515  0.214823  1.131202\n",
              "2021-05-02 -1.174356 -0.927297  0.679319  0.314211\n",
              "2021-05-03  0.374507 -1.656275 -1.425843 -0.930556\n",
              "2021-05-04  0.034391 -1.036879 -0.521683 -0.729389\n",
              "2021-05-05 -0.333849 -0.157301  1.047117  1.566103"
            ]
          },
          "metadata": {
            "tags": []
          },
          "execution_count": 57
        }
      ]
    },
    {
      "cell_type": "code",
      "metadata": {
        "colab": {
          "base_uri": "https://localhost:8080/",
          "height": 235
        },
        "id": "zQ6MvBXVZZC0",
        "outputId": "bd2bdfe0-622a-4034-9e96-9e61ebb8f783"
      },
      "source": [
        "df.sort_values(by='B')"
      ],
      "execution_count": 60,
      "outputs": [
        {
          "output_type": "execute_result",
          "data": {
            "text/html": [
              "<div>\n",
              "<style scoped>\n",
              "    .dataframe tbody tr th:only-of-type {\n",
              "        vertical-align: middle;\n",
              "    }\n",
              "\n",
              "    .dataframe tbody tr th {\n",
              "        vertical-align: top;\n",
              "    }\n",
              "\n",
              "    .dataframe thead th {\n",
              "        text-align: right;\n",
              "    }\n",
              "</style>\n",
              "<table border=\"1\" class=\"dataframe\">\n",
              "  <thead>\n",
              "    <tr style=\"text-align: right;\">\n",
              "      <th></th>\n",
              "      <th>A</th>\n",
              "      <th>B</th>\n",
              "      <th>C</th>\n",
              "      <th>D</th>\n",
              "    </tr>\n",
              "  </thead>\n",
              "  <tbody>\n",
              "    <tr>\n",
              "      <th>2021-05-03</th>\n",
              "      <td>0.374507</td>\n",
              "      <td>-1.656275</td>\n",
              "      <td>-1.425843</td>\n",
              "      <td>-0.930556</td>\n",
              "    </tr>\n",
              "    <tr>\n",
              "      <th>2021-05-04</th>\n",
              "      <td>0.034391</td>\n",
              "      <td>-1.036879</td>\n",
              "      <td>-0.521683</td>\n",
              "      <td>-0.729389</td>\n",
              "    </tr>\n",
              "    <tr>\n",
              "      <th>2021-05-02</th>\n",
              "      <td>-1.174356</td>\n",
              "      <td>-0.927297</td>\n",
              "      <td>0.679319</td>\n",
              "      <td>0.314211</td>\n",
              "    </tr>\n",
              "    <tr>\n",
              "      <th>2021-05-05</th>\n",
              "      <td>-0.333849</td>\n",
              "      <td>-0.157301</td>\n",
              "      <td>1.047117</td>\n",
              "      <td>1.566103</td>\n",
              "    </tr>\n",
              "    <tr>\n",
              "      <th>2021-04-30</th>\n",
              "      <td>0.308982</td>\n",
              "      <td>1.099581</td>\n",
              "      <td>1.013141</td>\n",
              "      <td>1.384868</td>\n",
              "    </tr>\n",
              "    <tr>\n",
              "      <th>2021-05-01</th>\n",
              "      <td>0.412316</td>\n",
              "      <td>1.563515</td>\n",
              "      <td>0.214823</td>\n",
              "      <td>1.131202</td>\n",
              "    </tr>\n",
              "  </tbody>\n",
              "</table>\n",
              "</div>"
            ],
            "text/plain": [
              "                   A         B         C         D\n",
              "2021-05-03  0.374507 -1.656275 -1.425843 -0.930556\n",
              "2021-05-04  0.034391 -1.036879 -0.521683 -0.729389\n",
              "2021-05-02 -1.174356 -0.927297  0.679319  0.314211\n",
              "2021-05-05 -0.333849 -0.157301  1.047117  1.566103\n",
              "2021-04-30  0.308982  1.099581  1.013141  1.384868\n",
              "2021-05-01  0.412316  1.563515  0.214823  1.131202"
            ]
          },
          "metadata": {
            "tags": []
          },
          "execution_count": 60
        }
      ]
    },
    {
      "cell_type": "code",
      "metadata": {
        "id": "HUZgdIF1ZbZx"
      },
      "source": [
        ""
      ],
      "execution_count": null,
      "outputs": []
    }
  ]
}