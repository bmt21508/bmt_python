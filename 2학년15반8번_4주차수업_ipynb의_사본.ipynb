{
  "nbformat": 4,
  "nbformat_minor": 0,
  "metadata": {
    "colab": {
      "name": "2학년15반8번 4주차수업 .ipynb의 사본",
      "provenance": [],
      "authorship_tag": "ABX9TyPodedCXG6rnM/NImqElOY8",
      "include_colab_link": true
    },
    "kernelspec": {
      "name": "python3",
      "display_name": "Python 3"
    },
    "language_info": {
      "name": "python"
    }
  },
  "cells": [
    {
      "cell_type": "markdown",
      "metadata": {
        "id": "view-in-github",
        "colab_type": "text"
      },
      "source": [
        "<a href=\"https://colab.research.google.com/github/bmt21508/bmt_python/blob/main/2%ED%95%99%EB%85%8415%EB%B0%988%EB%B2%88_4%EC%A3%BC%EC%B0%A8%EC%88%98%EC%97%85_ipynb%EC%9D%98_%EC%82%AC%EB%B3%B8.ipynb\" target=\"_parent\"><img src=\"https://colab.research.google.com/assets/colab-badge.svg\" alt=\"Open In Colab\"/></a>"
      ]
    },
    {
      "cell_type": "code",
      "metadata": {
        "colab": {
          "base_uri": "https://localhost:8080/"
        },
        "id": "IxaU5LIf0wRQ",
        "outputId": "1723b3bd-c34a-479f-8132-142d020ef074"
      },
      "source": [
        "print('[ 소름끼치도록 놀라운 심리테스트]')\n",
        "\n",
        "menu = input('당신이 좋아하는 음식을 입력해주세요 : ')\n",
        "\n",
        "if menu == '짜장면':\n",
        "   print(f'당신은 {menu}을 좋아하는 사람입니다.')\n",
        "elif menu == '아이스크림' :\n",
        "  print(f'당신은 {menu}을 좋아하는 사람입니다.')\n",
        "elif menu == '사탕':\n",
        "  print(f'당신은 {menu}을 좋아하는 사람입니다,') \n",
        "else : \n",
        "  print(f'당신은 짜장면, 아이스크림, 사탕을 좋아하지 않는 사람입니다.')      "
      ],
      "execution_count": null,
      "outputs": [
        {
          "output_type": "stream",
          "text": [
            "[ 소름끼치도록 놀라운 심리테스트]\n",
            "당신이 좋아하는 음식을 입력해주세요 : 라면\n",
            "당신은 짜장면, 아이스크림, 사탕을 좋아하지 않는 사람입니다.\n"
          ],
          "name": "stdout"
        }
      ]
    },
    {
      "cell_type": "code",
      "metadata": {
        "colab": {
          "base_uri": "https://localhost:8080/"
        },
        "id": "6XPzWWil3Tnl",
        "outputId": "2a2b554d-e88b-4719-8e28-32670ae60c58"
      },
      "source": [
        "names = ['정밀', '폴리', '산설', '메카', '로봇', '전기']\n",
        "for i in [0, 1, 2, 3, 4, 5]:\n",
        "  print(names[i], end=' ')\n",
        "\n",
        "print()\n",
        "\n",
        "for i in range(6):\n",
        " print(names[i], end='')"
      ],
      "execution_count": null,
      "outputs": [
        {
          "output_type": "stream",
          "text": [
            "정밀 폴리 산설 메카 로봇 전기 \n",
            "정밀폴리산설메카로봇전기"
          ],
          "name": "stdout"
        }
      ]
    },
    {
      "cell_type": "code",
      "metadata": {
        "colab": {
          "base_uri": "https://localhost:8080/",
          "height": 35
        },
        "id": "T4MyyVsz4npE",
        "outputId": "1f17331b-9140-4264-f5ea-fd6a6ace5f47"
      },
      "source": [
        "names[-1]"
      ],
      "execution_count": null,
      "outputs": [
        {
          "output_type": "execute_result",
          "data": {
            "application/vnd.google.colaboratory.intrinsic+json": {
              "type": "string"
            },
            "text/plain": [
              "'전기'"
            ]
          },
          "metadata": {
            "tags": []
          },
          "execution_count": 13
        }
      ]
    },
    {
      "cell_type": "code",
      "metadata": {
        "colab": {
          "base_uri": "https://localhost:8080/"
        },
        "id": "1qztDzVS5iFd",
        "outputId": "f52dea61-4cdf-4d3c-d3b6-acbf005d154e"
      },
      "source": [
        "names = ['정밀', '폴리', '산설', '메카', '로봇', '전기']\n",
        "\n",
        "print(names[0:2])"
      ],
      "execution_count": null,
      "outputs": [
        {
          "output_type": "stream",
          "text": [
            "['정밀', '폴리']\n"
          ],
          "name": "stdout"
        }
      ]
    },
    {
      "cell_type": "code",
      "metadata": {
        "colab": {
          "base_uri": "https://localhost:8080/"
        },
        "id": "LcLba5ha6WXO",
        "outputId": "d9fb0c6a-ac4f-458b-cf5b-8b9fdc1ae6bc"
      },
      "source": [
        "names.append('부기공')\n",
        "print(names) "
      ],
      "execution_count": null,
      "outputs": [
        {
          "output_type": "stream",
          "text": [
            "['정밀', '폴리', '산설', '메카', '로봇', '전기', '부기공', '부기공', '부산기계공업고등학교', '부기공']\n"
          ],
          "name": "stdout"
        }
      ]
    },
    {
      "cell_type": "code",
      "metadata": {
        "colab": {
          "base_uri": "https://localhost:8080/"
        },
        "id": "3xNLXWM58Knv",
        "outputId": "3e79f57a-d4f4-4111-f2a0-f2227811da2f"
      },
      "source": [
        "names = ['정밀', '폴리', '산설', '메카', '로봇', '전기']\n",
        "\n",
        "names.append('부산기계')\n",
        "\n",
        "for name in names:\n",
        "  if len(name) > 2:\n",
        "    print(f'{name}공업고등학교')"
      ],
      "execution_count": null,
      "outputs": [
        {
          "output_type": "stream",
          "text": [
            "부산기계공업고등학교\n"
          ],
          "name": "stdout"
        }
      ]
    },
    {
      "cell_type": "code",
      "metadata": {
        "colab": {
          "base_uri": "https://localhost:8080/"
        },
        "id": "HF3Ik9_z8weO",
        "outputId": "fe3a65c0-ebd2-45e1-ee39-527d69d83b56"
      },
      "source": [
        "print('hello world')\n",
        "print('부산')"
      ],
      "execution_count": null,
      "outputs": [
        {
          "output_type": "stream",
          "text": [
            "hello world\n",
            "부산\n"
          ],
          "name": "stdout"
        }
      ]
    },
    {
      "cell_type": "code",
      "metadata": {
        "colab": {
          "base_uri": "https://localhost:8080/"
        },
        "id": "Jl3MK4NV-31x",
        "outputId": "98ef8a20-9180-47ff-9d9d-214a41c045c0"
      },
      "source": [
        "print('hello', end = '\\n')\n",
        "print('World')"
      ],
      "execution_count": null,
      "outputs": [
        {
          "output_type": "stream",
          "text": [
            "hello\n",
            "World\n"
          ],
          "name": "stdout"
        }
      ]
    },
    {
      "cell_type": "code",
      "metadata": {
        "colab": {
          "base_uri": "https://localhost:8080/"
        },
        "id": "wsmxrfM5_q0-",
        "outputId": "3df79c1d-e53c-48df-8898-a259bd58c372"
      },
      "source": [
        "print('hello', 'world')\n",
        "print('hello' + 'world')"
      ],
      "execution_count": null,
      "outputs": [
        {
          "output_type": "stream",
          "text": [
            "hello world\n",
            "helloworld\n"
          ],
          "name": "stdout"
        }
      ]
    },
    {
      "cell_type": "code",
      "metadata": {
        "colab": {
          "base_uri": "https://localhost:8080/"
        },
        "id": "1r3jryujAIEe",
        "outputId": "6d9a4b86-07da-4838-d649-b5995618ddc6"
      },
      "source": [
        "print('hello\\'')"
      ],
      "execution_count": null,
      "outputs": [
        {
          "output_type": "stream",
          "text": [
            "hello'\n"
          ],
          "name": "stdout"
        }
      ]
    },
    {
      "cell_type": "code",
      "metadata": {
        "colab": {
          "base_uri": "https://localhost:8080/"
        },
        "id": "6y0J98msAol_",
        "outputId": "b11d097e-a895-4268-cbab-5b47b4fb6e6b"
      },
      "source": [
        "print('hello\\nworld')"
      ],
      "execution_count": null,
      "outputs": [
        {
          "output_type": "stream",
          "text": [
            "hello\n",
            "world\n"
          ],
          "name": "stdout"
        }
      ]
    },
    {
      "cell_type": "code",
      "metadata": {
        "colab": {
          "base_uri": "https://localhost:8080/"
        },
        "id": "XyCTv9VsAuVf",
        "outputId": "768889f9-07aa-48c5-c860-fceae07e8c39"
      },
      "source": [
        "print('hello\\tworld')"
      ],
      "execution_count": null,
      "outputs": [
        {
          "output_type": "stream",
          "text": [
            "hello\tworld\n"
          ],
          "name": "stdout"
        }
      ]
    },
    {
      "cell_type": "code",
      "metadata": {
        "colab": {
          "base_uri": "https://localhost:8080/"
        },
        "id": "7gCtT3UFA-U_",
        "outputId": "6c088274-04d5-452f-c4b6-21d988f786eb"
      },
      "source": [
        "x = input('x 입력 : ')\n",
        "y = input('y 입력 : ')\n"
      ],
      "execution_count": null,
      "outputs": [
        {
          "output_type": "stream",
          "text": [
            "x 입력 : 10\n",
            "y 입력 : 20\n"
          ],
          "name": "stdout"
        }
      ]
    },
    {
      "cell_type": "code",
      "metadata": {
        "colab": {
          "base_uri": "https://localhost:8080/"
        },
        "id": "p38qBpKzBfFe",
        "outputId": "bfc3bd75-9f01-4e80-95ec-c095ddf3dd5a"
      },
      "source": [
        "print(f'{x} + {y} = {int(x)+int(y)}') "
      ],
      "execution_count": null,
      "outputs": [
        {
          "output_type": "stream",
          "text": [
            "10 + 20 = 30\n"
          ],
          "name": "stdout"
        }
      ]
    },
    {
      "cell_type": "code",
      "metadata": {
        "colab": {
          "base_uri": "https://localhost:8080/"
        },
        "id": "hgcXhq72B9Jf",
        "outputId": "aabf6853-c3f0-462b-8b38-766ebfe8fb89"
      },
      "source": [
        "# 두 정수를 입력 받아서 사칙연산을 수행하는 프로그램\n",
        "\n",
        "#입력부\n",
        "x = int(input('첫 번째 정수 입력'))\n",
        "y = int(input('두 번째 정수 입력'))\n",
        "# 제어부(연산작업) + 출력부\n",
        "print(x, '+', y, '=', (x + y))\n",
        "print(x, '-', y, '=', (x - y))\n",
        "print(x, 'x', y, '=', (x * y))\n",
        "print(x, '/', y, '=', (x / y))"
      ],
      "execution_count": null,
      "outputs": [
        {
          "output_type": "stream",
          "text": [
            "첫 번째 정수 입력1\n",
            "두 번째 정수 입력2\n",
            "1 + 2 = 3\n",
            "1 - 2 = -1\n",
            "1 x 2 = 2\n",
            "1 / 2 = 0.5\n"
          ],
          "name": "stdout"
        }
      ]
    },
    {
      "cell_type": "code",
      "metadata": {
        "colab": {
          "base_uri": "https://localhost:8080/"
        },
        "id": "Vm8pFQ80C_6P",
        "outputId": "76746b53-02ac-40cf-80aa-4ef2a7596460"
      },
      "source": [
        "print('*'*50)\n",
        "print(f'{x} + {y} = {x+y}')"
      ],
      "execution_count": null,
      "outputs": [
        {
          "output_type": "stream",
          "text": [
            "**************************************************\n",
            "1 + 2 = 3\n"
          ],
          "name": "stdout"
        }
      ]
    },
    {
      "cell_type": "code",
      "metadata": {
        "colab": {
          "base_uri": "https://localhost:8080/"
        },
        "id": "nc61VyuJDRWP",
        "outputId": "ea7d369d-5f5e-4862-f675-15ba1d2f08c7"
      },
      "source": [
        "# 입력부\n",
        "weight = int(input('weight(kg) : '))\n",
        "height = int(input('height(cm) : '))\n",
        "\n",
        "# 제어부\n",
        "BMI = weight / ( height/100)**2\n",
        "\n",
        "# 출력부\n",
        "print(f'BMI : {BMI:.2f}')\n",
        "\n",
        "\n"
      ],
      "execution_count": null,
      "outputs": [
        {
          "output_type": "stream",
          "text": [
            "weight(kg) : 71\n",
            "height(cm) : 170\n",
            "BMI : 24.57\n"
          ],
          "name": "stdout"
        }
      ]
    },
    {
      "cell_type": "code",
      "metadata": {
        "colab": {
          "base_uri": "https://localhost:8080/"
        },
        "id": "g3vZyhhVFVSA",
        "outputId": "b8d40744-3bb6-4f09-8373-f02593d68fc1"
      },
      "source": [
        "print('ExchangeRate Calc : $ - \\ ')\n",
        "ExchangeRate = float(input(' 1$ ExchangeRate : '))\n",
        "KRW = int(input('KRW : '))\n",
        "\n",
        "# 제어부 : 환율계산 => 0.84$ / 1000\\\n",
        "USD = ExchangeRate / 1000 * KRW\n",
        "\n",
        "# 출력부\n",
        "print(f'USD : {USD:.1f} $')"
      ],
      "execution_count": null,
      "outputs": [
        {
          "output_type": "stream",
          "text": [
            "ExchangeRate Calc : $ - \\ \n",
            " 1$ ExchangeRate : 0.84\n",
            "KRW : 100000000\n",
            "USD : 84000.0 $\n"
          ],
          "name": "stdout"
        }
      ]
    },
    {
      "cell_type": "code",
      "metadata": {
        "colab": {
          "base_uri": "https://localhost:8080/"
        },
        "id": "J9kipRo0G0JB",
        "outputId": "b2253359-3976-4307-dadc-702e466bada7"
      },
      "source": [
        "x = 'Hello Python'\n",
        "\n",
        "len(x)\n",
        "print(f'len(x) : {len(x)}')"
      ],
      "execution_count": null,
      "outputs": [
        {
          "output_type": "stream",
          "text": [
            "len(x) : 12\n"
          ],
          "name": "stdout"
        }
      ]
    },
    {
      "cell_type": "code",
      "metadata": {
        "colab": {
          "base_uri": "https://localhost:8080/",
          "height": 35
        },
        "id": "-sw9FWKLHrAA",
        "outputId": "201be1d4-b7d1-4c78-bf4f-db89d6e68206"
      },
      "source": [
        "x"
      ],
      "execution_count": null,
      "outputs": [
        {
          "output_type": "execute_result",
          "data": {
            "application/vnd.google.colaboratory.intrinsic+json": {
              "type": "string"
            },
            "text/plain": [
              "'Hello Python'"
            ]
          },
          "metadata": {
            "tags": []
          },
          "execution_count": 49
        }
      ]
    },
    {
      "cell_type": "code",
      "metadata": {
        "colab": {
          "base_uri": "https://localhost:8080/"
        },
        "id": "SRM7uOpZHuMA",
        "outputId": "2df3a8f1-d519-404a-9867-c72b1bc972ca"
      },
      "source": [
        "x.count('0')\n",
        "print(f\"x.count('o') : {x.count('o')}\")"
      ],
      "execution_count": null,
      "outputs": [
        {
          "output_type": "stream",
          "text": [
            "x.count('o') : 2\n"
          ],
          "name": "stdout"
        }
      ]
    },
    {
      "cell_type": "code",
      "metadata": {
        "colab": {
          "base_uri": "https://localhost:8080/"
        },
        "id": "J2C6JtwvHvzQ",
        "outputId": "f217cd63-2490-4ff1-9621-3c7a383c5d64"
      },
      "source": [
        "x = 'Hello Python'\n",
        "\n",
        "x.find(\"o\")\n",
        "print(f'x.find(\"o\") : {x.find(\"o\")}')"
      ],
      "execution_count": null,
      "outputs": [
        {
          "output_type": "stream",
          "text": [
            "x.find(\"o\") : 4\n"
          ],
          "name": "stdout"
        }
      ]
    },
    {
      "cell_type": "code",
      "metadata": {
        "colab": {
          "base_uri": "https://localhost:8080/"
        },
        "id": "rq7DpV_2IuqR",
        "outputId": "d0dc2728-454f-4c96-f71c-cf34f27a7b83"
      },
      "source": [
        "x = 'Hello Python'\n",
        "\n",
        "z = '_'.join(x)\n",
        "print(z)"
      ],
      "execution_count": null,
      "outputs": [
        {
          "output_type": "stream",
          "text": [
            "H_e_l_l_o_ _P_y_t_h_o_n\n"
          ],
          "name": "stdout"
        }
      ]
    },
    {
      "cell_type": "code",
      "metadata": {
        "colab": {
          "base_uri": "https://localhost:8080/"
        },
        "id": "d23MaKi0JA57",
        "outputId": "e0763b5e-7e4c-43aa-de33-900f9958822c"
      },
      "source": [
        "x.replace(\"P\", \"★\")\n",
        "print(f'x.replace(\"P\", \"★\") : {x.replace(\"P\", \"★\")}')"
      ],
      "execution_count": null,
      "outputs": [
        {
          "output_type": "stream",
          "text": [
            "x.replace(\"P\", \"★\") : Hello ★ython\n"
          ],
          "name": "stdout"
        }
      ]
    },
    {
      "cell_type": "code",
      "metadata": {
        "colab": {
          "base_uri": "https://localhost:8080/"
        },
        "id": "HGVKOs44JiAA",
        "outputId": "fff55b61-a480-4219-e6db-34726bea142d"
      },
      "source": [
        "x = 'Hello Python'\n",
        "\n",
        "y = '-'.join(x)\n",
        "print(y)\n",
        "\n",
        "y.split(\"-\")\n",
        "print(f'y.split(\"-\") : {y.split(\"-\")}')"
      ],
      "execution_count": null,
      "outputs": [
        {
          "output_type": "stream",
          "text": [
            "H-e-l-l-o- -P-y-t-h-o-n\n",
            "y.split(\"-\") : ['H', 'e', 'l', 'l', 'o', ' ', 'P', 'y', 't', 'h', 'o', 'n']\n"
          ],
          "name": "stdout"
        }
      ]
    },
    {
      "cell_type": "code",
      "metadata": {
        "id": "jdLYKamzJ0RB"
      },
      "source": [
        ""
      ],
      "execution_count": null,
      "outputs": []
    }
  ]
}