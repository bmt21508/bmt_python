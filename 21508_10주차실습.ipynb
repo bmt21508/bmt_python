{
  "nbformat": 4,
  "nbformat_minor": 0,
  "metadata": {
    "colab": {
      "name": "21508 10주차실습.ipynb",
      "provenance": [],
      "authorship_tag": "ABX9TyMy7nRFI7uEafDJDr48C1G9",
      "include_colab_link": true
    },
    "kernelspec": {
      "name": "python3",
      "display_name": "Python 3"
    },
    "language_info": {
      "name": "python"
    }
  },
  "cells": [
    {
      "cell_type": "markdown",
      "metadata": {
        "id": "view-in-github",
        "colab_type": "text"
      },
      "source": [
        "<a href=\"https://colab.research.google.com/github/bmt21508/bmt_python/blob/main/21508_10%EC%A3%BC%EC%B0%A8%EC%8B%A4%EC%8A%B5.ipynb\" target=\"_parent\"><img src=\"https://colab.research.google.com/assets/colab-badge.svg\" alt=\"Open In Colab\"/></a>"
      ]
    },
    {
      "cell_type": "code",
      "metadata": {
        "id": "_FsvWpp8GKK5"
      },
      "source": [
        "import pandas as pd \n",
        "import numpy as np\n",
        "import matplotlib.pyplot as plt\n"
      ],
      "execution_count": 8,
      "outputs": []
    },
    {
      "cell_type": "code",
      "metadata": {
        "colab": {
          "base_uri": "https://localhost:8080/"
        },
        "id": "Q51GA2yHHcrm",
        "outputId": "31b62325-efeb-4ad1-dc21-d7ed1b16606f"
      },
      "source": [
        "s = pd.Series( [1, 3, 5, np.nan, 6, 8] )\n",
        "s"
      ],
      "execution_count": 10,
      "outputs": [
        {
          "output_type": "execute_result",
          "data": {
            "text/plain": [
              "0    1.0\n",
              "1    3.0\n",
              "2    5.0\n",
              "3    NaN\n",
              "4    6.0\n",
              "5    8.0\n",
              "dtype: float64"
            ]
          },
          "metadata": {
            "tags": []
          },
          "execution_count": 10
        }
      ]
    },
    {
      "cell_type": "code",
      "metadata": {
        "colab": {
          "base_uri": "https://localhost:8080/"
        },
        "id": "74F9dMImH_FU",
        "outputId": "5274da01-11d3-4bd2-ad2b-7cc1e42ee67a"
      },
      "source": [
        "type(s)"
      ],
      "execution_count": 14,
      "outputs": [
        {
          "output_type": "execute_result",
          "data": {
            "text/plain": [
              "pandas.core.series.Series"
            ]
          },
          "metadata": {
            "tags": []
          },
          "execution_count": 14
        }
      ]
    },
    {
      "cell_type": "code",
      "metadata": {
        "colab": {
          "base_uri": "https://localhost:8080/"
        },
        "id": "E8yGcmXPIqgU",
        "outputId": "66ed8ab4-c334-4063-afcb-4bfb70dd9c6c"
      },
      "source": [
        "dates  = pd.date_range('20210507', periods=6)\n",
        "dates"
      ],
      "execution_count": 16,
      "outputs": [
        {
          "output_type": "execute_result",
          "data": {
            "text/plain": [
              "DatetimeIndex(['2021-05-07', '2021-05-08', '2021-05-09', '2021-05-10',\n",
              "               '2021-05-11', '2021-05-12'],\n",
              "              dtype='datetime64[ns]', freq='D')"
            ]
          },
          "metadata": {
            "tags": []
          },
          "execution_count": 16
        }
      ]
    },
    {
      "cell_type": "code",
      "metadata": {
        "colab": {
          "base_uri": "https://localhost:8080/",
          "height": 225
        },
        "id": "w2DjevBvJSHV",
        "outputId": "42dfb16e-e029-4812-de10-7722c825e383"
      },
      "source": [
        "df = pd.DataFrame(np.random.randn(6,4), index=dates, columns=list('ABCD'))\n",
        "df "
      ],
      "execution_count": 27,
      "outputs": [
        {
          "output_type": "execute_result",
          "data": {
            "text/html": [
              "<div>\n",
              "<style scoped>\n",
              "    .dataframe tbody tr th:only-of-type {\n",
              "        vertical-align: middle;\n",
              "    }\n",
              "\n",
              "    .dataframe tbody tr th {\n",
              "        vertical-align: top;\n",
              "    }\n",
              "\n",
              "    .dataframe thead th {\n",
              "        text-align: right;\n",
              "    }\n",
              "</style>\n",
              "<table border=\"1\" class=\"dataframe\">\n",
              "  <thead>\n",
              "    <tr style=\"text-align: right;\">\n",
              "      <th></th>\n",
              "      <th>A</th>\n",
              "      <th>B</th>\n",
              "      <th>C</th>\n",
              "      <th>D</th>\n",
              "    </tr>\n",
              "  </thead>\n",
              "  <tbody>\n",
              "    <tr>\n",
              "      <th>2021-05-07</th>\n",
              "      <td>1.673145</td>\n",
              "      <td>0.041300</td>\n",
              "      <td>0.109393</td>\n",
              "      <td>0.684956</td>\n",
              "    </tr>\n",
              "    <tr>\n",
              "      <th>2021-05-08</th>\n",
              "      <td>0.078179</td>\n",
              "      <td>1.036524</td>\n",
              "      <td>0.490010</td>\n",
              "      <td>0.678991</td>\n",
              "    </tr>\n",
              "    <tr>\n",
              "      <th>2021-05-09</th>\n",
              "      <td>-0.776264</td>\n",
              "      <td>-0.711727</td>\n",
              "      <td>0.495079</td>\n",
              "      <td>1.022418</td>\n",
              "    </tr>\n",
              "    <tr>\n",
              "      <th>2021-05-10</th>\n",
              "      <td>-0.333836</td>\n",
              "      <td>-0.642583</td>\n",
              "      <td>0.293846</td>\n",
              "      <td>-0.029732</td>\n",
              "    </tr>\n",
              "    <tr>\n",
              "      <th>2021-05-11</th>\n",
              "      <td>-0.401741</td>\n",
              "      <td>0.405042</td>\n",
              "      <td>0.772508</td>\n",
              "      <td>0.034120</td>\n",
              "    </tr>\n",
              "    <tr>\n",
              "      <th>2021-05-12</th>\n",
              "      <td>0.836052</td>\n",
              "      <td>-0.724812</td>\n",
              "      <td>0.297778</td>\n",
              "      <td>0.423549</td>\n",
              "    </tr>\n",
              "  </tbody>\n",
              "</table>\n",
              "</div>"
            ],
            "text/plain": [
              "                   A         B         C         D\n",
              "2021-05-07  1.673145  0.041300  0.109393  0.684956\n",
              "2021-05-08  0.078179  1.036524  0.490010  0.678991\n",
              "2021-05-09 -0.776264 -0.711727  0.495079  1.022418\n",
              "2021-05-10 -0.333836 -0.642583  0.293846 -0.029732\n",
              "2021-05-11 -0.401741  0.405042  0.772508  0.034120\n",
              "2021-05-12  0.836052 -0.724812  0.297778  0.423549"
            ]
          },
          "metadata": {
            "tags": []
          },
          "execution_count": 27
        }
      ]
    },
    {
      "cell_type": "code",
      "metadata": {
        "colab": {
          "base_uri": "https://localhost:8080/",
          "height": 166
        },
        "id": "sw89FnEHJ9s-",
        "outputId": "f8f91da4-e0c9-40e5-a35a-a9a96ee5b90e"
      },
      "source": [
        "df2 = pd.DataFrame(\n",
        "    {\n",
        "        'A': 1.,\n",
        "        'B': pd.Timestamp('20201113'),\n",
        "        'C': pd.Series(1, index=list(range(4)), dtype='float32'),\n",
        "        'D': np.array([3] * 4, dtype='int32'),\n",
        "        'E': pd.Categorical([\"test\", \"train\", \"test\", \"train\"]),\n",
        "        'F': 'foo'\n",
        "     }\n",
        ")\n",
        "\n",
        "df2"
      ],
      "execution_count": 30,
      "outputs": [
        {
          "output_type": "execute_result",
          "data": {
            "text/html": [
              "<div>\n",
              "<style scoped>\n",
              "    .dataframe tbody tr th:only-of-type {\n",
              "        vertical-align: middle;\n",
              "    }\n",
              "\n",
              "    .dataframe tbody tr th {\n",
              "        vertical-align: top;\n",
              "    }\n",
              "\n",
              "    .dataframe thead th {\n",
              "        text-align: right;\n",
              "    }\n",
              "</style>\n",
              "<table border=\"1\" class=\"dataframe\">\n",
              "  <thead>\n",
              "    <tr style=\"text-align: right;\">\n",
              "      <th></th>\n",
              "      <th>A</th>\n",
              "      <th>B</th>\n",
              "      <th>C</th>\n",
              "      <th>D</th>\n",
              "      <th>E</th>\n",
              "      <th>F</th>\n",
              "    </tr>\n",
              "  </thead>\n",
              "  <tbody>\n",
              "    <tr>\n",
              "      <th>0</th>\n",
              "      <td>1.0</td>\n",
              "      <td>2020-11-13</td>\n",
              "      <td>1.0</td>\n",
              "      <td>3</td>\n",
              "      <td>test</td>\n",
              "      <td>foo</td>\n",
              "    </tr>\n",
              "    <tr>\n",
              "      <th>1</th>\n",
              "      <td>1.0</td>\n",
              "      <td>2020-11-13</td>\n",
              "      <td>1.0</td>\n",
              "      <td>3</td>\n",
              "      <td>train</td>\n",
              "      <td>foo</td>\n",
              "    </tr>\n",
              "    <tr>\n",
              "      <th>2</th>\n",
              "      <td>1.0</td>\n",
              "      <td>2020-11-13</td>\n",
              "      <td>1.0</td>\n",
              "      <td>3</td>\n",
              "      <td>test</td>\n",
              "      <td>foo</td>\n",
              "    </tr>\n",
              "    <tr>\n",
              "      <th>3</th>\n",
              "      <td>1.0</td>\n",
              "      <td>2020-11-13</td>\n",
              "      <td>1.0</td>\n",
              "      <td>3</td>\n",
              "      <td>train</td>\n",
              "      <td>foo</td>\n",
              "    </tr>\n",
              "  </tbody>\n",
              "</table>\n",
              "</div>"
            ],
            "text/plain": [
              "     A          B    C  D      E    F\n",
              "0  1.0 2020-11-13  1.0  3   test  foo\n",
              "1  1.0 2020-11-13  1.0  3  train  foo\n",
              "2  1.0 2020-11-13  1.0  3   test  foo\n",
              "3  1.0 2020-11-13  1.0  3  train  foo"
            ]
          },
          "metadata": {
            "tags": []
          },
          "execution_count": 30
        }
      ]
    },
    {
      "cell_type": "code",
      "metadata": {
        "colab": {
          "base_uri": "https://localhost:8080/",
          "height": 225
        },
        "id": "DNyjjTI9MpHH",
        "outputId": "643aa2df-97ea-4929-abe7-c190bcefb15c"
      },
      "source": [
        "df"
      ],
      "execution_count": 31,
      "outputs": [
        {
          "output_type": "execute_result",
          "data": {
            "text/html": [
              "<div>\n",
              "<style scoped>\n",
              "    .dataframe tbody tr th:only-of-type {\n",
              "        vertical-align: middle;\n",
              "    }\n",
              "\n",
              "    .dataframe tbody tr th {\n",
              "        vertical-align: top;\n",
              "    }\n",
              "\n",
              "    .dataframe thead th {\n",
              "        text-align: right;\n",
              "    }\n",
              "</style>\n",
              "<table border=\"1\" class=\"dataframe\">\n",
              "  <thead>\n",
              "    <tr style=\"text-align: right;\">\n",
              "      <th></th>\n",
              "      <th>A</th>\n",
              "      <th>B</th>\n",
              "      <th>C</th>\n",
              "      <th>D</th>\n",
              "    </tr>\n",
              "  </thead>\n",
              "  <tbody>\n",
              "    <tr>\n",
              "      <th>2021-05-07</th>\n",
              "      <td>1.673145</td>\n",
              "      <td>0.041300</td>\n",
              "      <td>0.109393</td>\n",
              "      <td>0.684956</td>\n",
              "    </tr>\n",
              "    <tr>\n",
              "      <th>2021-05-08</th>\n",
              "      <td>0.078179</td>\n",
              "      <td>1.036524</td>\n",
              "      <td>0.490010</td>\n",
              "      <td>0.678991</td>\n",
              "    </tr>\n",
              "    <tr>\n",
              "      <th>2021-05-09</th>\n",
              "      <td>-0.776264</td>\n",
              "      <td>-0.711727</td>\n",
              "      <td>0.495079</td>\n",
              "      <td>1.022418</td>\n",
              "    </tr>\n",
              "    <tr>\n",
              "      <th>2021-05-10</th>\n",
              "      <td>-0.333836</td>\n",
              "      <td>-0.642583</td>\n",
              "      <td>0.293846</td>\n",
              "      <td>-0.029732</td>\n",
              "    </tr>\n",
              "    <tr>\n",
              "      <th>2021-05-11</th>\n",
              "      <td>-0.401741</td>\n",
              "      <td>0.405042</td>\n",
              "      <td>0.772508</td>\n",
              "      <td>0.034120</td>\n",
              "    </tr>\n",
              "    <tr>\n",
              "      <th>2021-05-12</th>\n",
              "      <td>0.836052</td>\n",
              "      <td>-0.724812</td>\n",
              "      <td>0.297778</td>\n",
              "      <td>0.423549</td>\n",
              "    </tr>\n",
              "  </tbody>\n",
              "</table>\n",
              "</div>"
            ],
            "text/plain": [
              "                   A         B         C         D\n",
              "2021-05-07  1.673145  0.041300  0.109393  0.684956\n",
              "2021-05-08  0.078179  1.036524  0.490010  0.678991\n",
              "2021-05-09 -0.776264 -0.711727  0.495079  1.022418\n",
              "2021-05-10 -0.333836 -0.642583  0.293846 -0.029732\n",
              "2021-05-11 -0.401741  0.405042  0.772508  0.034120\n",
              "2021-05-12  0.836052 -0.724812  0.297778  0.423549"
            ]
          },
          "metadata": {
            "tags": []
          },
          "execution_count": 31
        }
      ]
    },
    {
      "cell_type": "code",
      "metadata": {
        "colab": {
          "base_uri": "https://localhost:8080/",
          "height": 195
        },
        "id": "ytv71polNBom",
        "outputId": "0b83eeff-c7bb-42fd-beaa-d214350afdb1"
      },
      "source": [
        "df.head()"
      ],
      "execution_count": 32,
      "outputs": [
        {
          "output_type": "execute_result",
          "data": {
            "text/html": [
              "<div>\n",
              "<style scoped>\n",
              "    .dataframe tbody tr th:only-of-type {\n",
              "        vertical-align: middle;\n",
              "    }\n",
              "\n",
              "    .dataframe tbody tr th {\n",
              "        vertical-align: top;\n",
              "    }\n",
              "\n",
              "    .dataframe thead th {\n",
              "        text-align: right;\n",
              "    }\n",
              "</style>\n",
              "<table border=\"1\" class=\"dataframe\">\n",
              "  <thead>\n",
              "    <tr style=\"text-align: right;\">\n",
              "      <th></th>\n",
              "      <th>A</th>\n",
              "      <th>B</th>\n",
              "      <th>C</th>\n",
              "      <th>D</th>\n",
              "    </tr>\n",
              "  </thead>\n",
              "  <tbody>\n",
              "    <tr>\n",
              "      <th>2021-05-07</th>\n",
              "      <td>1.673145</td>\n",
              "      <td>0.041300</td>\n",
              "      <td>0.109393</td>\n",
              "      <td>0.684956</td>\n",
              "    </tr>\n",
              "    <tr>\n",
              "      <th>2021-05-08</th>\n",
              "      <td>0.078179</td>\n",
              "      <td>1.036524</td>\n",
              "      <td>0.490010</td>\n",
              "      <td>0.678991</td>\n",
              "    </tr>\n",
              "    <tr>\n",
              "      <th>2021-05-09</th>\n",
              "      <td>-0.776264</td>\n",
              "      <td>-0.711727</td>\n",
              "      <td>0.495079</td>\n",
              "      <td>1.022418</td>\n",
              "    </tr>\n",
              "    <tr>\n",
              "      <th>2021-05-10</th>\n",
              "      <td>-0.333836</td>\n",
              "      <td>-0.642583</td>\n",
              "      <td>0.293846</td>\n",
              "      <td>-0.029732</td>\n",
              "    </tr>\n",
              "    <tr>\n",
              "      <th>2021-05-11</th>\n",
              "      <td>-0.401741</td>\n",
              "      <td>0.405042</td>\n",
              "      <td>0.772508</td>\n",
              "      <td>0.034120</td>\n",
              "    </tr>\n",
              "  </tbody>\n",
              "</table>\n",
              "</div>"
            ],
            "text/plain": [
              "                   A         B         C         D\n",
              "2021-05-07  1.673145  0.041300  0.109393  0.684956\n",
              "2021-05-08  0.078179  1.036524  0.490010  0.678991\n",
              "2021-05-09 -0.776264 -0.711727  0.495079  1.022418\n",
              "2021-05-10 -0.333836 -0.642583  0.293846 -0.029732\n",
              "2021-05-11 -0.401741  0.405042  0.772508  0.034120"
            ]
          },
          "metadata": {
            "tags": []
          },
          "execution_count": 32
        }
      ]
    },
    {
      "cell_type": "code",
      "metadata": {
        "colab": {
          "base_uri": "https://localhost:8080/",
          "height": 195
        },
        "id": "CQE_CPpdNOd2",
        "outputId": "d59862e4-f5e4-4029-b108-bcc0628311e4"
      },
      "source": [
        "df.tail()"
      ],
      "execution_count": 33,
      "outputs": [
        {
          "output_type": "execute_result",
          "data": {
            "text/html": [
              "<div>\n",
              "<style scoped>\n",
              "    .dataframe tbody tr th:only-of-type {\n",
              "        vertical-align: middle;\n",
              "    }\n",
              "\n",
              "    .dataframe tbody tr th {\n",
              "        vertical-align: top;\n",
              "    }\n",
              "\n",
              "    .dataframe thead th {\n",
              "        text-align: right;\n",
              "    }\n",
              "</style>\n",
              "<table border=\"1\" class=\"dataframe\">\n",
              "  <thead>\n",
              "    <tr style=\"text-align: right;\">\n",
              "      <th></th>\n",
              "      <th>A</th>\n",
              "      <th>B</th>\n",
              "      <th>C</th>\n",
              "      <th>D</th>\n",
              "    </tr>\n",
              "  </thead>\n",
              "  <tbody>\n",
              "    <tr>\n",
              "      <th>2021-05-08</th>\n",
              "      <td>0.078179</td>\n",
              "      <td>1.036524</td>\n",
              "      <td>0.490010</td>\n",
              "      <td>0.678991</td>\n",
              "    </tr>\n",
              "    <tr>\n",
              "      <th>2021-05-09</th>\n",
              "      <td>-0.776264</td>\n",
              "      <td>-0.711727</td>\n",
              "      <td>0.495079</td>\n",
              "      <td>1.022418</td>\n",
              "    </tr>\n",
              "    <tr>\n",
              "      <th>2021-05-10</th>\n",
              "      <td>-0.333836</td>\n",
              "      <td>-0.642583</td>\n",
              "      <td>0.293846</td>\n",
              "      <td>-0.029732</td>\n",
              "    </tr>\n",
              "    <tr>\n",
              "      <th>2021-05-11</th>\n",
              "      <td>-0.401741</td>\n",
              "      <td>0.405042</td>\n",
              "      <td>0.772508</td>\n",
              "      <td>0.034120</td>\n",
              "    </tr>\n",
              "    <tr>\n",
              "      <th>2021-05-12</th>\n",
              "      <td>0.836052</td>\n",
              "      <td>-0.724812</td>\n",
              "      <td>0.297778</td>\n",
              "      <td>0.423549</td>\n",
              "    </tr>\n",
              "  </tbody>\n",
              "</table>\n",
              "</div>"
            ],
            "text/plain": [
              "                   A         B         C         D\n",
              "2021-05-08  0.078179  1.036524  0.490010  0.678991\n",
              "2021-05-09 -0.776264 -0.711727  0.495079  1.022418\n",
              "2021-05-10 -0.333836 -0.642583  0.293846 -0.029732\n",
              "2021-05-11 -0.401741  0.405042  0.772508  0.034120\n",
              "2021-05-12  0.836052 -0.724812  0.297778  0.423549"
            ]
          },
          "metadata": {
            "tags": []
          },
          "execution_count": 33
        }
      ]
    },
    {
      "cell_type": "code",
      "metadata": {
        "colab": {
          "base_uri": "https://localhost:8080/",
          "height": 225
        },
        "id": "z5KT93MJNRAW",
        "outputId": "21e2b08d-6aa4-4ebf-e50d-9a9fb180f263"
      },
      "source": [
        "df"
      ],
      "execution_count": 34,
      "outputs": [
        {
          "output_type": "execute_result",
          "data": {
            "text/html": [
              "<div>\n",
              "<style scoped>\n",
              "    .dataframe tbody tr th:only-of-type {\n",
              "        vertical-align: middle;\n",
              "    }\n",
              "\n",
              "    .dataframe tbody tr th {\n",
              "        vertical-align: top;\n",
              "    }\n",
              "\n",
              "    .dataframe thead th {\n",
              "        text-align: right;\n",
              "    }\n",
              "</style>\n",
              "<table border=\"1\" class=\"dataframe\">\n",
              "  <thead>\n",
              "    <tr style=\"text-align: right;\">\n",
              "      <th></th>\n",
              "      <th>A</th>\n",
              "      <th>B</th>\n",
              "      <th>C</th>\n",
              "      <th>D</th>\n",
              "    </tr>\n",
              "  </thead>\n",
              "  <tbody>\n",
              "    <tr>\n",
              "      <th>2021-05-07</th>\n",
              "      <td>1.673145</td>\n",
              "      <td>0.041300</td>\n",
              "      <td>0.109393</td>\n",
              "      <td>0.684956</td>\n",
              "    </tr>\n",
              "    <tr>\n",
              "      <th>2021-05-08</th>\n",
              "      <td>0.078179</td>\n",
              "      <td>1.036524</td>\n",
              "      <td>0.490010</td>\n",
              "      <td>0.678991</td>\n",
              "    </tr>\n",
              "    <tr>\n",
              "      <th>2021-05-09</th>\n",
              "      <td>-0.776264</td>\n",
              "      <td>-0.711727</td>\n",
              "      <td>0.495079</td>\n",
              "      <td>1.022418</td>\n",
              "    </tr>\n",
              "    <tr>\n",
              "      <th>2021-05-10</th>\n",
              "      <td>-0.333836</td>\n",
              "      <td>-0.642583</td>\n",
              "      <td>0.293846</td>\n",
              "      <td>-0.029732</td>\n",
              "    </tr>\n",
              "    <tr>\n",
              "      <th>2021-05-11</th>\n",
              "      <td>-0.401741</td>\n",
              "      <td>0.405042</td>\n",
              "      <td>0.772508</td>\n",
              "      <td>0.034120</td>\n",
              "    </tr>\n",
              "    <tr>\n",
              "      <th>2021-05-12</th>\n",
              "      <td>0.836052</td>\n",
              "      <td>-0.724812</td>\n",
              "      <td>0.297778</td>\n",
              "      <td>0.423549</td>\n",
              "    </tr>\n",
              "  </tbody>\n",
              "</table>\n",
              "</div>"
            ],
            "text/plain": [
              "                   A         B         C         D\n",
              "2021-05-07  1.673145  0.041300  0.109393  0.684956\n",
              "2021-05-08  0.078179  1.036524  0.490010  0.678991\n",
              "2021-05-09 -0.776264 -0.711727  0.495079  1.022418\n",
              "2021-05-10 -0.333836 -0.642583  0.293846 -0.029732\n",
              "2021-05-11 -0.401741  0.405042  0.772508  0.034120\n",
              "2021-05-12  0.836052 -0.724812  0.297778  0.423549"
            ]
          },
          "metadata": {
            "tags": []
          },
          "execution_count": 34
        }
      ]
    },
    {
      "cell_type": "code",
      "metadata": {
        "colab": {
          "base_uri": "https://localhost:8080/",
          "height": 77
        },
        "id": "0XMb5oC5NcCF",
        "outputId": "6f8a013f-b9cf-41d8-8be1-73837d3eb958"
      },
      "source": [
        "df.head(1)"
      ],
      "execution_count": 36,
      "outputs": [
        {
          "output_type": "execute_result",
          "data": {
            "text/html": [
              "<div>\n",
              "<style scoped>\n",
              "    .dataframe tbody tr th:only-of-type {\n",
              "        vertical-align: middle;\n",
              "    }\n",
              "\n",
              "    .dataframe tbody tr th {\n",
              "        vertical-align: top;\n",
              "    }\n",
              "\n",
              "    .dataframe thead th {\n",
              "        text-align: right;\n",
              "    }\n",
              "</style>\n",
              "<table border=\"1\" class=\"dataframe\">\n",
              "  <thead>\n",
              "    <tr style=\"text-align: right;\">\n",
              "      <th></th>\n",
              "      <th>A</th>\n",
              "      <th>B</th>\n",
              "      <th>C</th>\n",
              "      <th>D</th>\n",
              "    </tr>\n",
              "  </thead>\n",
              "  <tbody>\n",
              "    <tr>\n",
              "      <th>2021-05-07</th>\n",
              "      <td>1.673145</td>\n",
              "      <td>0.0413</td>\n",
              "      <td>0.109393</td>\n",
              "      <td>0.684956</td>\n",
              "    </tr>\n",
              "  </tbody>\n",
              "</table>\n",
              "</div>"
            ],
            "text/plain": [
              "                   A       B         C         D\n",
              "2021-05-07  1.673145  0.0413  0.109393  0.684956"
            ]
          },
          "metadata": {
            "tags": []
          },
          "execution_count": 36
        }
      ]
    },
    {
      "cell_type": "code",
      "metadata": {
        "colab": {
          "base_uri": "https://localhost:8080/",
          "height": 106
        },
        "id": "_nIb9rxbNfx2",
        "outputId": "7eabaeec-2ffa-46b1-8ccf-7019dea938e3"
      },
      "source": [
        "df.tail(2)"
      ],
      "execution_count": 37,
      "outputs": [
        {
          "output_type": "execute_result",
          "data": {
            "text/html": [
              "<div>\n",
              "<style scoped>\n",
              "    .dataframe tbody tr th:only-of-type {\n",
              "        vertical-align: middle;\n",
              "    }\n",
              "\n",
              "    .dataframe tbody tr th {\n",
              "        vertical-align: top;\n",
              "    }\n",
              "\n",
              "    .dataframe thead th {\n",
              "        text-align: right;\n",
              "    }\n",
              "</style>\n",
              "<table border=\"1\" class=\"dataframe\">\n",
              "  <thead>\n",
              "    <tr style=\"text-align: right;\">\n",
              "      <th></th>\n",
              "      <th>A</th>\n",
              "      <th>B</th>\n",
              "      <th>C</th>\n",
              "      <th>D</th>\n",
              "    </tr>\n",
              "  </thead>\n",
              "  <tbody>\n",
              "    <tr>\n",
              "      <th>2021-05-11</th>\n",
              "      <td>-0.401741</td>\n",
              "      <td>0.405042</td>\n",
              "      <td>0.772508</td>\n",
              "      <td>0.034120</td>\n",
              "    </tr>\n",
              "    <tr>\n",
              "      <th>2021-05-12</th>\n",
              "      <td>0.836052</td>\n",
              "      <td>-0.724812</td>\n",
              "      <td>0.297778</td>\n",
              "      <td>0.423549</td>\n",
              "    </tr>\n",
              "  </tbody>\n",
              "</table>\n",
              "</div>"
            ],
            "text/plain": [
              "                   A         B         C         D\n",
              "2021-05-11 -0.401741  0.405042  0.772508  0.034120\n",
              "2021-05-12  0.836052 -0.724812  0.297778  0.423549"
            ]
          },
          "metadata": {
            "tags": []
          },
          "execution_count": 37
        }
      ]
    },
    {
      "cell_type": "code",
      "metadata": {
        "colab": {
          "base_uri": "https://localhost:8080/",
          "height": 225
        },
        "id": "XzLSz02iNle2",
        "outputId": "5c0997d7-cf10-45ec-dc7c-1350f60c660c"
      },
      "source": [
        "df"
      ],
      "execution_count": 38,
      "outputs": [
        {
          "output_type": "execute_result",
          "data": {
            "text/html": [
              "<div>\n",
              "<style scoped>\n",
              "    .dataframe tbody tr th:only-of-type {\n",
              "        vertical-align: middle;\n",
              "    }\n",
              "\n",
              "    .dataframe tbody tr th {\n",
              "        vertical-align: top;\n",
              "    }\n",
              "\n",
              "    .dataframe thead th {\n",
              "        text-align: right;\n",
              "    }\n",
              "</style>\n",
              "<table border=\"1\" class=\"dataframe\">\n",
              "  <thead>\n",
              "    <tr style=\"text-align: right;\">\n",
              "      <th></th>\n",
              "      <th>A</th>\n",
              "      <th>B</th>\n",
              "      <th>C</th>\n",
              "      <th>D</th>\n",
              "    </tr>\n",
              "  </thead>\n",
              "  <tbody>\n",
              "    <tr>\n",
              "      <th>2021-05-07</th>\n",
              "      <td>1.673145</td>\n",
              "      <td>0.041300</td>\n",
              "      <td>0.109393</td>\n",
              "      <td>0.684956</td>\n",
              "    </tr>\n",
              "    <tr>\n",
              "      <th>2021-05-08</th>\n",
              "      <td>0.078179</td>\n",
              "      <td>1.036524</td>\n",
              "      <td>0.490010</td>\n",
              "      <td>0.678991</td>\n",
              "    </tr>\n",
              "    <tr>\n",
              "      <th>2021-05-09</th>\n",
              "      <td>-0.776264</td>\n",
              "      <td>-0.711727</td>\n",
              "      <td>0.495079</td>\n",
              "      <td>1.022418</td>\n",
              "    </tr>\n",
              "    <tr>\n",
              "      <th>2021-05-10</th>\n",
              "      <td>-0.333836</td>\n",
              "      <td>-0.642583</td>\n",
              "      <td>0.293846</td>\n",
              "      <td>-0.029732</td>\n",
              "    </tr>\n",
              "    <tr>\n",
              "      <th>2021-05-11</th>\n",
              "      <td>-0.401741</td>\n",
              "      <td>0.405042</td>\n",
              "      <td>0.772508</td>\n",
              "      <td>0.034120</td>\n",
              "    </tr>\n",
              "    <tr>\n",
              "      <th>2021-05-12</th>\n",
              "      <td>0.836052</td>\n",
              "      <td>-0.724812</td>\n",
              "      <td>0.297778</td>\n",
              "      <td>0.423549</td>\n",
              "    </tr>\n",
              "  </tbody>\n",
              "</table>\n",
              "</div>"
            ],
            "text/plain": [
              "                   A         B         C         D\n",
              "2021-05-07  1.673145  0.041300  0.109393  0.684956\n",
              "2021-05-08  0.078179  1.036524  0.490010  0.678991\n",
              "2021-05-09 -0.776264 -0.711727  0.495079  1.022418\n",
              "2021-05-10 -0.333836 -0.642583  0.293846 -0.029732\n",
              "2021-05-11 -0.401741  0.405042  0.772508  0.034120\n",
              "2021-05-12  0.836052 -0.724812  0.297778  0.423549"
            ]
          },
          "metadata": {
            "tags": []
          },
          "execution_count": 38
        }
      ]
    },
    {
      "cell_type": "code",
      "metadata": {
        "colab": {
          "base_uri": "https://localhost:8080/"
        },
        "id": "5l7LeJzINu_2",
        "outputId": "ff6e2d0b-523f-48f2-c426-8c82984ca1d1"
      },
      "source": [
        "df.index"
      ],
      "execution_count": 39,
      "outputs": [
        {
          "output_type": "execute_result",
          "data": {
            "text/plain": [
              "DatetimeIndex(['2021-05-07', '2021-05-08', '2021-05-09', '2021-05-10',\n",
              "               '2021-05-11', '2021-05-12'],\n",
              "              dtype='datetime64[ns]', freq='D')"
            ]
          },
          "metadata": {
            "tags": []
          },
          "execution_count": 39
        }
      ]
    },
    {
      "cell_type": "code",
      "metadata": {
        "colab": {
          "base_uri": "https://localhost:8080/"
        },
        "id": "JmTPe7c2Ny1W",
        "outputId": "c1a2b3c6-da18-4b02-b7e5-9d9f88671ca9"
      },
      "source": [
        "df.columns"
      ],
      "execution_count": 40,
      "outputs": [
        {
          "output_type": "execute_result",
          "data": {
            "text/plain": [
              "Index(['A', 'B', 'C', 'D'], dtype='object')"
            ]
          },
          "metadata": {
            "tags": []
          },
          "execution_count": 40
        }
      ]
    },
    {
      "cell_type": "code",
      "metadata": {
        "colab": {
          "base_uri": "https://localhost:8080/"
        },
        "id": "k0q849nwN9uW",
        "outputId": "8ec113be-c062-4b1b-a026-2a6bf18905fb"
      },
      "source": [
        "df.values"
      ],
      "execution_count": 41,
      "outputs": [
        {
          "output_type": "execute_result",
          "data": {
            "text/plain": [
              "array([[ 1.67314506,  0.04130016,  0.10939345,  0.68495643],\n",
              "       [ 0.07817935,  1.03652431,  0.49001009,  0.67899114],\n",
              "       [-0.77626412, -0.71172656,  0.4950787 ,  1.02241766],\n",
              "       [-0.33383552, -0.64258277,  0.29384612, -0.02973172],\n",
              "       [-0.4017406 ,  0.4050421 ,  0.77250767,  0.03412034],\n",
              "       [ 0.83605217, -0.72481227,  0.29777843,  0.42354914]])"
            ]
          },
          "metadata": {
            "tags": []
          },
          "execution_count": 41
        }
      ]
    },
    {
      "cell_type": "code",
      "metadata": {
        "colab": {
          "base_uri": "https://localhost:8080/"
        },
        "id": "gC3jviBwOFhl",
        "outputId": "4edb490e-cb79-41ab-d179-bd2e01f79b81"
      },
      "source": [
        "df.describe"
      ],
      "execution_count": 42,
      "outputs": [
        {
          "output_type": "execute_result",
          "data": {
            "text/plain": [
              "<bound method NDFrame.describe of                    A         B         C         D\n",
              "2021-05-07  1.673145  0.041300  0.109393  0.684956\n",
              "2021-05-08  0.078179  1.036524  0.490010  0.678991\n",
              "2021-05-09 -0.776264 -0.711727  0.495079  1.022418\n",
              "2021-05-10 -0.333836 -0.642583  0.293846 -0.029732\n",
              "2021-05-11 -0.401741  0.405042  0.772508  0.034120\n",
              "2021-05-12  0.836052 -0.724812  0.297778  0.423549>"
            ]
          },
          "metadata": {
            "tags": []
          },
          "execution_count": 42
        }
      ]
    },
    {
      "cell_type": "code",
      "metadata": {
        "colab": {
          "base_uri": "https://localhost:8080/",
          "height": 225
        },
        "id": "xn34cJ0jOPWG",
        "outputId": "ede4ab4d-a565-46e6-8a04-2f8f613241ac"
      },
      "source": [
        "df"
      ],
      "execution_count": 43,
      "outputs": [
        {
          "output_type": "execute_result",
          "data": {
            "text/html": [
              "<div>\n",
              "<style scoped>\n",
              "    .dataframe tbody tr th:only-of-type {\n",
              "        vertical-align: middle;\n",
              "    }\n",
              "\n",
              "    .dataframe tbody tr th {\n",
              "        vertical-align: top;\n",
              "    }\n",
              "\n",
              "    .dataframe thead th {\n",
              "        text-align: right;\n",
              "    }\n",
              "</style>\n",
              "<table border=\"1\" class=\"dataframe\">\n",
              "  <thead>\n",
              "    <tr style=\"text-align: right;\">\n",
              "      <th></th>\n",
              "      <th>A</th>\n",
              "      <th>B</th>\n",
              "      <th>C</th>\n",
              "      <th>D</th>\n",
              "    </tr>\n",
              "  </thead>\n",
              "  <tbody>\n",
              "    <tr>\n",
              "      <th>2021-05-07</th>\n",
              "      <td>1.673145</td>\n",
              "      <td>0.041300</td>\n",
              "      <td>0.109393</td>\n",
              "      <td>0.684956</td>\n",
              "    </tr>\n",
              "    <tr>\n",
              "      <th>2021-05-08</th>\n",
              "      <td>0.078179</td>\n",
              "      <td>1.036524</td>\n",
              "      <td>0.490010</td>\n",
              "      <td>0.678991</td>\n",
              "    </tr>\n",
              "    <tr>\n",
              "      <th>2021-05-09</th>\n",
              "      <td>-0.776264</td>\n",
              "      <td>-0.711727</td>\n",
              "      <td>0.495079</td>\n",
              "      <td>1.022418</td>\n",
              "    </tr>\n",
              "    <tr>\n",
              "      <th>2021-05-10</th>\n",
              "      <td>-0.333836</td>\n",
              "      <td>-0.642583</td>\n",
              "      <td>0.293846</td>\n",
              "      <td>-0.029732</td>\n",
              "    </tr>\n",
              "    <tr>\n",
              "      <th>2021-05-11</th>\n",
              "      <td>-0.401741</td>\n",
              "      <td>0.405042</td>\n",
              "      <td>0.772508</td>\n",
              "      <td>0.034120</td>\n",
              "    </tr>\n",
              "    <tr>\n",
              "      <th>2021-05-12</th>\n",
              "      <td>0.836052</td>\n",
              "      <td>-0.724812</td>\n",
              "      <td>0.297778</td>\n",
              "      <td>0.423549</td>\n",
              "    </tr>\n",
              "  </tbody>\n",
              "</table>\n",
              "</div>"
            ],
            "text/plain": [
              "                   A         B         C         D\n",
              "2021-05-07  1.673145  0.041300  0.109393  0.684956\n",
              "2021-05-08  0.078179  1.036524  0.490010  0.678991\n",
              "2021-05-09 -0.776264 -0.711727  0.495079  1.022418\n",
              "2021-05-10 -0.333836 -0.642583  0.293846 -0.029732\n",
              "2021-05-11 -0.401741  0.405042  0.772508  0.034120\n",
              "2021-05-12  0.836052 -0.724812  0.297778  0.423549"
            ]
          },
          "metadata": {
            "tags": []
          },
          "execution_count": 43
        }
      ]
    },
    {
      "cell_type": "code",
      "metadata": {
        "colab": {
          "base_uri": "https://localhost:8080/",
          "height": 225
        },
        "id": "pR5w4oUYO3GW",
        "outputId": "7edf29b9-f8ad-489e-9ea2-bfd0c7189e8e"
      },
      "source": [
        "df.sort_index(axis=1, ascending=False)"
      ],
      "execution_count": 46,
      "outputs": [
        {
          "output_type": "execute_result",
          "data": {
            "text/html": [
              "<div>\n",
              "<style scoped>\n",
              "    .dataframe tbody tr th:only-of-type {\n",
              "        vertical-align: middle;\n",
              "    }\n",
              "\n",
              "    .dataframe tbody tr th {\n",
              "        vertical-align: top;\n",
              "    }\n",
              "\n",
              "    .dataframe thead th {\n",
              "        text-align: right;\n",
              "    }\n",
              "</style>\n",
              "<table border=\"1\" class=\"dataframe\">\n",
              "  <thead>\n",
              "    <tr style=\"text-align: right;\">\n",
              "      <th></th>\n",
              "      <th>D</th>\n",
              "      <th>C</th>\n",
              "      <th>B</th>\n",
              "      <th>A</th>\n",
              "    </tr>\n",
              "  </thead>\n",
              "  <tbody>\n",
              "    <tr>\n",
              "      <th>2021-05-07</th>\n",
              "      <td>0.684956</td>\n",
              "      <td>0.109393</td>\n",
              "      <td>0.041300</td>\n",
              "      <td>1.673145</td>\n",
              "    </tr>\n",
              "    <tr>\n",
              "      <th>2021-05-08</th>\n",
              "      <td>0.678991</td>\n",
              "      <td>0.490010</td>\n",
              "      <td>1.036524</td>\n",
              "      <td>0.078179</td>\n",
              "    </tr>\n",
              "    <tr>\n",
              "      <th>2021-05-09</th>\n",
              "      <td>1.022418</td>\n",
              "      <td>0.495079</td>\n",
              "      <td>-0.711727</td>\n",
              "      <td>-0.776264</td>\n",
              "    </tr>\n",
              "    <tr>\n",
              "      <th>2021-05-10</th>\n",
              "      <td>-0.029732</td>\n",
              "      <td>0.293846</td>\n",
              "      <td>-0.642583</td>\n",
              "      <td>-0.333836</td>\n",
              "    </tr>\n",
              "    <tr>\n",
              "      <th>2021-05-11</th>\n",
              "      <td>0.034120</td>\n",
              "      <td>0.772508</td>\n",
              "      <td>0.405042</td>\n",
              "      <td>-0.401741</td>\n",
              "    </tr>\n",
              "    <tr>\n",
              "      <th>2021-05-12</th>\n",
              "      <td>0.423549</td>\n",
              "      <td>0.297778</td>\n",
              "      <td>-0.724812</td>\n",
              "      <td>0.836052</td>\n",
              "    </tr>\n",
              "  </tbody>\n",
              "</table>\n",
              "</div>"
            ],
            "text/plain": [
              "                   D         C         B         A\n",
              "2021-05-07  0.684956  0.109393  0.041300  1.673145\n",
              "2021-05-08  0.678991  0.490010  1.036524  0.078179\n",
              "2021-05-09  1.022418  0.495079 -0.711727 -0.776264\n",
              "2021-05-10 -0.029732  0.293846 -0.642583 -0.333836\n",
              "2021-05-11  0.034120  0.772508  0.405042 -0.401741\n",
              "2021-05-12  0.423549  0.297778 -0.724812  0.836052"
            ]
          },
          "metadata": {
            "tags": []
          },
          "execution_count": 46
        }
      ]
    },
    {
      "cell_type": "code",
      "metadata": {
        "colab": {
          "base_uri": "https://localhost:8080/",
          "height": 225
        },
        "id": "sT7Qbs-hRu5e",
        "outputId": "580e3007-280a-4ce0-a573-9aaeca7f2c35"
      },
      "source": [
        "df.sort_index(axis=0, ascending=False)"
      ],
      "execution_count": 49,
      "outputs": [
        {
          "output_type": "execute_result",
          "data": {
            "text/html": [
              "<div>\n",
              "<style scoped>\n",
              "    .dataframe tbody tr th:only-of-type {\n",
              "        vertical-align: middle;\n",
              "    }\n",
              "\n",
              "    .dataframe tbody tr th {\n",
              "        vertical-align: top;\n",
              "    }\n",
              "\n",
              "    .dataframe thead th {\n",
              "        text-align: right;\n",
              "    }\n",
              "</style>\n",
              "<table border=\"1\" class=\"dataframe\">\n",
              "  <thead>\n",
              "    <tr style=\"text-align: right;\">\n",
              "      <th></th>\n",
              "      <th>A</th>\n",
              "      <th>B</th>\n",
              "      <th>C</th>\n",
              "      <th>D</th>\n",
              "    </tr>\n",
              "  </thead>\n",
              "  <tbody>\n",
              "    <tr>\n",
              "      <th>2021-05-12</th>\n",
              "      <td>0.836052</td>\n",
              "      <td>-0.724812</td>\n",
              "      <td>0.297778</td>\n",
              "      <td>0.423549</td>\n",
              "    </tr>\n",
              "    <tr>\n",
              "      <th>2021-05-11</th>\n",
              "      <td>-0.401741</td>\n",
              "      <td>0.405042</td>\n",
              "      <td>0.772508</td>\n",
              "      <td>0.034120</td>\n",
              "    </tr>\n",
              "    <tr>\n",
              "      <th>2021-05-10</th>\n",
              "      <td>-0.333836</td>\n",
              "      <td>-0.642583</td>\n",
              "      <td>0.293846</td>\n",
              "      <td>-0.029732</td>\n",
              "    </tr>\n",
              "    <tr>\n",
              "      <th>2021-05-09</th>\n",
              "      <td>-0.776264</td>\n",
              "      <td>-0.711727</td>\n",
              "      <td>0.495079</td>\n",
              "      <td>1.022418</td>\n",
              "    </tr>\n",
              "    <tr>\n",
              "      <th>2021-05-08</th>\n",
              "      <td>0.078179</td>\n",
              "      <td>1.036524</td>\n",
              "      <td>0.490010</td>\n",
              "      <td>0.678991</td>\n",
              "    </tr>\n",
              "    <tr>\n",
              "      <th>2021-05-07</th>\n",
              "      <td>1.673145</td>\n",
              "      <td>0.041300</td>\n",
              "      <td>0.109393</td>\n",
              "      <td>0.684956</td>\n",
              "    </tr>\n",
              "  </tbody>\n",
              "</table>\n",
              "</div>"
            ],
            "text/plain": [
              "                   A         B         C         D\n",
              "2021-05-12  0.836052 -0.724812  0.297778  0.423549\n",
              "2021-05-11 -0.401741  0.405042  0.772508  0.034120\n",
              "2021-05-10 -0.333836 -0.642583  0.293846 -0.029732\n",
              "2021-05-09 -0.776264 -0.711727  0.495079  1.022418\n",
              "2021-05-08  0.078179  1.036524  0.490010  0.678991\n",
              "2021-05-07  1.673145  0.041300  0.109393  0.684956"
            ]
          },
          "metadata": {
            "tags": []
          },
          "execution_count": 49
        }
      ]
    },
    {
      "cell_type": "code",
      "metadata": {
        "colab": {
          "base_uri": "https://localhost:8080/",
          "height": 225
        },
        "id": "RUQJg-L5SOiv",
        "outputId": "26e3e1e1-b38a-48db-dccf-fded8ed1703e"
      },
      "source": [
        "df.sort_values(by='B')"
      ],
      "execution_count": 50,
      "outputs": [
        {
          "output_type": "execute_result",
          "data": {
            "text/html": [
              "<div>\n",
              "<style scoped>\n",
              "    .dataframe tbody tr th:only-of-type {\n",
              "        vertical-align: middle;\n",
              "    }\n",
              "\n",
              "    .dataframe tbody tr th {\n",
              "        vertical-align: top;\n",
              "    }\n",
              "\n",
              "    .dataframe thead th {\n",
              "        text-align: right;\n",
              "    }\n",
              "</style>\n",
              "<table border=\"1\" class=\"dataframe\">\n",
              "  <thead>\n",
              "    <tr style=\"text-align: right;\">\n",
              "      <th></th>\n",
              "      <th>A</th>\n",
              "      <th>B</th>\n",
              "      <th>C</th>\n",
              "      <th>D</th>\n",
              "    </tr>\n",
              "  </thead>\n",
              "  <tbody>\n",
              "    <tr>\n",
              "      <th>2021-05-12</th>\n",
              "      <td>0.836052</td>\n",
              "      <td>-0.724812</td>\n",
              "      <td>0.297778</td>\n",
              "      <td>0.423549</td>\n",
              "    </tr>\n",
              "    <tr>\n",
              "      <th>2021-05-09</th>\n",
              "      <td>-0.776264</td>\n",
              "      <td>-0.711727</td>\n",
              "      <td>0.495079</td>\n",
              "      <td>1.022418</td>\n",
              "    </tr>\n",
              "    <tr>\n",
              "      <th>2021-05-10</th>\n",
              "      <td>-0.333836</td>\n",
              "      <td>-0.642583</td>\n",
              "      <td>0.293846</td>\n",
              "      <td>-0.029732</td>\n",
              "    </tr>\n",
              "    <tr>\n",
              "      <th>2021-05-07</th>\n",
              "      <td>1.673145</td>\n",
              "      <td>0.041300</td>\n",
              "      <td>0.109393</td>\n",
              "      <td>0.684956</td>\n",
              "    </tr>\n",
              "    <tr>\n",
              "      <th>2021-05-11</th>\n",
              "      <td>-0.401741</td>\n",
              "      <td>0.405042</td>\n",
              "      <td>0.772508</td>\n",
              "      <td>0.034120</td>\n",
              "    </tr>\n",
              "    <tr>\n",
              "      <th>2021-05-08</th>\n",
              "      <td>0.078179</td>\n",
              "      <td>1.036524</td>\n",
              "      <td>0.490010</td>\n",
              "      <td>0.678991</td>\n",
              "    </tr>\n",
              "  </tbody>\n",
              "</table>\n",
              "</div>"
            ],
            "text/plain": [
              "                   A         B         C         D\n",
              "2021-05-12  0.836052 -0.724812  0.297778  0.423549\n",
              "2021-05-09 -0.776264 -0.711727  0.495079  1.022418\n",
              "2021-05-10 -0.333836 -0.642583  0.293846 -0.029732\n",
              "2021-05-07  1.673145  0.041300  0.109393  0.684956\n",
              "2021-05-11 -0.401741  0.405042  0.772508  0.034120\n",
              "2021-05-08  0.078179  1.036524  0.490010  0.678991"
            ]
          },
          "metadata": {
            "tags": []
          },
          "execution_count": 50
        }
      ]
    },
    {
      "cell_type": "code",
      "metadata": {
        "colab": {
          "base_uri": "https://localhost:8080/",
          "height": 225
        },
        "id": "QkfgOq8ISyeY",
        "outputId": "151a8afc-8896-4ced-b410-2fb85de54180"
      },
      "source": [
        "df"
      ],
      "execution_count": 51,
      "outputs": [
        {
          "output_type": "execute_result",
          "data": {
            "text/html": [
              "<div>\n",
              "<style scoped>\n",
              "    .dataframe tbody tr th:only-of-type {\n",
              "        vertical-align: middle;\n",
              "    }\n",
              "\n",
              "    .dataframe tbody tr th {\n",
              "        vertical-align: top;\n",
              "    }\n",
              "\n",
              "    .dataframe thead th {\n",
              "        text-align: right;\n",
              "    }\n",
              "</style>\n",
              "<table border=\"1\" class=\"dataframe\">\n",
              "  <thead>\n",
              "    <tr style=\"text-align: right;\">\n",
              "      <th></th>\n",
              "      <th>A</th>\n",
              "      <th>B</th>\n",
              "      <th>C</th>\n",
              "      <th>D</th>\n",
              "    </tr>\n",
              "  </thead>\n",
              "  <tbody>\n",
              "    <tr>\n",
              "      <th>2021-05-07</th>\n",
              "      <td>1.673145</td>\n",
              "      <td>0.041300</td>\n",
              "      <td>0.109393</td>\n",
              "      <td>0.684956</td>\n",
              "    </tr>\n",
              "    <tr>\n",
              "      <th>2021-05-08</th>\n",
              "      <td>0.078179</td>\n",
              "      <td>1.036524</td>\n",
              "      <td>0.490010</td>\n",
              "      <td>0.678991</td>\n",
              "    </tr>\n",
              "    <tr>\n",
              "      <th>2021-05-09</th>\n",
              "      <td>-0.776264</td>\n",
              "      <td>-0.711727</td>\n",
              "      <td>0.495079</td>\n",
              "      <td>1.022418</td>\n",
              "    </tr>\n",
              "    <tr>\n",
              "      <th>2021-05-10</th>\n",
              "      <td>-0.333836</td>\n",
              "      <td>-0.642583</td>\n",
              "      <td>0.293846</td>\n",
              "      <td>-0.029732</td>\n",
              "    </tr>\n",
              "    <tr>\n",
              "      <th>2021-05-11</th>\n",
              "      <td>-0.401741</td>\n",
              "      <td>0.405042</td>\n",
              "      <td>0.772508</td>\n",
              "      <td>0.034120</td>\n",
              "    </tr>\n",
              "    <tr>\n",
              "      <th>2021-05-12</th>\n",
              "      <td>0.836052</td>\n",
              "      <td>-0.724812</td>\n",
              "      <td>0.297778</td>\n",
              "      <td>0.423549</td>\n",
              "    </tr>\n",
              "  </tbody>\n",
              "</table>\n",
              "</div>"
            ],
            "text/plain": [
              "                   A         B         C         D\n",
              "2021-05-07  1.673145  0.041300  0.109393  0.684956\n",
              "2021-05-08  0.078179  1.036524  0.490010  0.678991\n",
              "2021-05-09 -0.776264 -0.711727  0.495079  1.022418\n",
              "2021-05-10 -0.333836 -0.642583  0.293846 -0.029732\n",
              "2021-05-11 -0.401741  0.405042  0.772508  0.034120\n",
              "2021-05-12  0.836052 -0.724812  0.297778  0.423549"
            ]
          },
          "metadata": {
            "tags": []
          },
          "execution_count": 51
        }
      ]
    },
    {
      "cell_type": "code",
      "metadata": {
        "colab": {
          "base_uri": "https://localhost:8080/"
        },
        "id": "2KRhJOGKTDWf",
        "outputId": "3be91f58-30f4-49df-d5d1-3877f4607106"
      },
      "source": [
        "df['A']"
      ],
      "execution_count": 52,
      "outputs": [
        {
          "output_type": "execute_result",
          "data": {
            "text/plain": [
              "2021-05-07    1.673145\n",
              "2021-05-08    0.078179\n",
              "2021-05-09   -0.776264\n",
              "2021-05-10   -0.333836\n",
              "2021-05-11   -0.401741\n",
              "2021-05-12    0.836052\n",
              "Freq: D, Name: A, dtype: float64"
            ]
          },
          "metadata": {
            "tags": []
          },
          "execution_count": 52
        }
      ]
    },
    {
      "cell_type": "code",
      "metadata": {
        "colab": {
          "base_uri": "https://localhost:8080/"
        },
        "id": "pODlfb8yTHag",
        "outputId": "4d51bb0a-8af0-477f-d886-359fea53819a"
      },
      "source": [
        "df['B']"
      ],
      "execution_count": 53,
      "outputs": [
        {
          "output_type": "execute_result",
          "data": {
            "text/plain": [
              "2021-05-07    0.041300\n",
              "2021-05-08    1.036524\n",
              "2021-05-09   -0.711727\n",
              "2021-05-10   -0.642583\n",
              "2021-05-11    0.405042\n",
              "2021-05-12   -0.724812\n",
              "Freq: D, Name: B, dtype: float64"
            ]
          },
          "metadata": {
            "tags": []
          },
          "execution_count": 53
        }
      ]
    },
    {
      "cell_type": "code",
      "metadata": {
        "colab": {
          "base_uri": "https://localhost:8080/",
          "height": 225
        },
        "id": "X6ERiqdPTQfB",
        "outputId": "0a929bdb-c961-43d7-b052-f7fbd1d26fa0"
      },
      "source": [
        "df[['A', 'D']]"
      ],
      "execution_count": 56,
      "outputs": [
        {
          "output_type": "execute_result",
          "data": {
            "text/html": [
              "<div>\n",
              "<style scoped>\n",
              "    .dataframe tbody tr th:only-of-type {\n",
              "        vertical-align: middle;\n",
              "    }\n",
              "\n",
              "    .dataframe tbody tr th {\n",
              "        vertical-align: top;\n",
              "    }\n",
              "\n",
              "    .dataframe thead th {\n",
              "        text-align: right;\n",
              "    }\n",
              "</style>\n",
              "<table border=\"1\" class=\"dataframe\">\n",
              "  <thead>\n",
              "    <tr style=\"text-align: right;\">\n",
              "      <th></th>\n",
              "      <th>A</th>\n",
              "      <th>D</th>\n",
              "    </tr>\n",
              "  </thead>\n",
              "  <tbody>\n",
              "    <tr>\n",
              "      <th>2021-05-07</th>\n",
              "      <td>1.673145</td>\n",
              "      <td>0.684956</td>\n",
              "    </tr>\n",
              "    <tr>\n",
              "      <th>2021-05-08</th>\n",
              "      <td>0.078179</td>\n",
              "      <td>0.678991</td>\n",
              "    </tr>\n",
              "    <tr>\n",
              "      <th>2021-05-09</th>\n",
              "      <td>-0.776264</td>\n",
              "      <td>1.022418</td>\n",
              "    </tr>\n",
              "    <tr>\n",
              "      <th>2021-05-10</th>\n",
              "      <td>-0.333836</td>\n",
              "      <td>-0.029732</td>\n",
              "    </tr>\n",
              "    <tr>\n",
              "      <th>2021-05-11</th>\n",
              "      <td>-0.401741</td>\n",
              "      <td>0.034120</td>\n",
              "    </tr>\n",
              "    <tr>\n",
              "      <th>2021-05-12</th>\n",
              "      <td>0.836052</td>\n",
              "      <td>0.423549</td>\n",
              "    </tr>\n",
              "  </tbody>\n",
              "</table>\n",
              "</div>"
            ],
            "text/plain": [
              "                   A         D\n",
              "2021-05-07  1.673145  0.684956\n",
              "2021-05-08  0.078179  0.678991\n",
              "2021-05-09 -0.776264  1.022418\n",
              "2021-05-10 -0.333836 -0.029732\n",
              "2021-05-11 -0.401741  0.034120\n",
              "2021-05-12  0.836052  0.423549"
            ]
          },
          "metadata": {
            "tags": []
          },
          "execution_count": 56
        }
      ]
    },
    {
      "cell_type": "code",
      "metadata": {
        "colab": {
          "base_uri": "https://localhost:8080/"
        },
        "id": "bT_XtclMTVWR",
        "outputId": "6dc1ddba-f42c-41c7-ec2c-6fe3f277d4e7"
      },
      "source": [
        "df.iat[1,1]"
      ],
      "execution_count": 57,
      "outputs": [
        {
          "output_type": "execute_result",
          "data": {
            "text/plain": [
              "1.0365243126981971"
            ]
          },
          "metadata": {
            "tags": []
          },
          "execution_count": 57
        }
      ]
    },
    {
      "cell_type": "code",
      "metadata": {
        "colab": {
          "base_uri": "https://localhost:8080/"
        },
        "id": "OjBvvZThU9wQ",
        "outputId": "494d3ab7-e21c-4d32-f3ce-815861be00b6"
      },
      "source": [
        "df.iloc[1,1]"
      ],
      "execution_count": 60,
      "outputs": [
        {
          "output_type": "execute_result",
          "data": {
            "text/plain": [
              "1.0365243126981971"
            ]
          },
          "metadata": {
            "tags": []
          },
          "execution_count": 60
        }
      ]
    },
    {
      "cell_type": "code",
      "metadata": {
        "colab": {
          "base_uri": "https://localhost:8080/"
        },
        "id": "rJ47JOS8VCUC",
        "outputId": "caed160c-dc72-435e-9363-80ea21ffe10e"
      },
      "source": [
        "df2 = df.copy()\n",
        "df2['E'] = ['one', 'one', 'two', 'three', 'four', 'three']\n",
        "print(df2);print()\n",
        "print(df2[df2['E'].isin(['two','four'])]);print()\n"
      ],
      "execution_count": 64,
      "outputs": [
        {
          "output_type": "stream",
          "text": [
            "                   A         B         C         D      E\n",
            "2021-05-07  1.673145  0.041300  0.109393  0.684956    one\n",
            "2021-05-08  0.078179  1.036524  0.490010  0.678991    one\n",
            "2021-05-09 -0.776264 -0.711727  0.495079  1.022418    two\n",
            "2021-05-10 -0.333836 -0.642583  0.293846 -0.029732  three\n",
            "2021-05-11 -0.401741  0.405042  0.772508  0.034120   four\n",
            "2021-05-12  0.836052 -0.724812  0.297778  0.423549  three\n",
            "\n",
            "                   A         B         C         D     E\n",
            "2021-05-09 -0.776264 -0.711727  0.495079  1.022418   two\n",
            "2021-05-11 -0.401741  0.405042  0.772508  0.034120  four\n",
            "\n"
          ],
          "name": "stdout"
        }
      ]
    },
    {
      "cell_type": "code",
      "metadata": {
        "colab": {
          "base_uri": "https://localhost:8080/"
        },
        "id": "za3VMSSAadYy",
        "outputId": "7153c475-d224-4548-86bc-a0abb22eec20"
      },
      "source": [
        "s1 = pd.Series([1, 2, 3, 4, 5, 6], index=pd.date_range('20210507', periods=6))\n",
        "s1"
      ],
      "execution_count": 65,
      "outputs": [
        {
          "output_type": "execute_result",
          "data": {
            "text/plain": [
              "2021-05-07    1\n",
              "2021-05-08    2\n",
              "2021-05-09    3\n",
              "2021-05-10    4\n",
              "2021-05-11    5\n",
              "2021-05-12    6\n",
              "Freq: D, dtype: int64"
            ]
          },
          "metadata": {
            "tags": []
          },
          "execution_count": 65
        }
      ]
    },
    {
      "cell_type": "code",
      "metadata": {
        "id": "UXpBHHRGau_i"
      },
      "source": [
        ""
      ],
      "execution_count": null,
      "outputs": []
    }
  ]
}