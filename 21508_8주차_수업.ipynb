{
  "nbformat": 4,
  "nbformat_minor": 0,
  "metadata": {
    "colab": {
      "name": "21508_8주차 수업.ipynb",
      "provenance": [],
      "authorship_tag": "ABX9TyNjGFO/emFpLbEshn304AV2",
      "include_colab_link": true
    },
    "kernelspec": {
      "name": "python3",
      "display_name": "Python 3"
    },
    "language_info": {
      "name": "python"
    }
  },
  "cells": [
    {
      "cell_type": "markdown",
      "metadata": {
        "id": "view-in-github",
        "colab_type": "text"
      },
      "source": [
        "<a href=\"https://colab.research.google.com/github/bmt21508/bmt_python/blob/main/21508_8%EC%A3%BC%EC%B0%A8_%EC%88%98%EC%97%85.ipynb\" target=\"_parent\"><img src=\"https://colab.research.google.com/assets/colab-badge.svg\" alt=\"Open In Colab\"/></a>"
      ]
    },
    {
      "cell_type": "code",
      "metadata": {
        "colab": {
          "base_uri": "https://localhost:8080/"
        },
        "id": "FxOpxQhl-r18",
        "outputId": "9c6e91ff-9345-4718-aa62-4d2ec2750c24"
      },
      "source": [
        "lst_even = list()\n",
        "lst_odd = []\n",
        "\n",
        "for i in range(5) :\n",
        "  num = int(input('숫자 입력 :'))\n",
        "\n",
        "  if num % 2 == 0:\n",
        "    lst_even.append(num)\n",
        "  else :\n",
        "    lst_odd.append(num) \n",
        "    \n",
        "print(lst_even)\n",
        "print(lst_odd)"
      ],
      "execution_count": null,
      "outputs": [
        {
          "output_type": "stream",
          "text": [
            "숫자 입력 :1\n",
            "숫자 입력 :2\n",
            "숫자 입력 :3\n",
            "숫자 입력 :4\n",
            "숫자 입력 :5\n",
            "[2, 4]\n",
            "[1, 3, 5]\n"
          ],
          "name": "stdout"
        }
      ]
    },
    {
      "cell_type": "code",
      "metadata": {
        "colab": {
          "base_uri": "https://localhost:8080/"
        },
        "id": "Fon1as1lAbpr",
        "outputId": "ab6c57e8-6c88-4ec4-8c06-7cb7a5531585"
      },
      "source": [
        "area = { '서울시':57, '부산시':62, '대구시':59,\n",
        "         '인천시':59, '강화군':58, '서해5도':64,\n",
        "         '광주시':62, '대전시':60, '울산시':53,\n",
        "         '세종시':58 }\n",
        "\n",
        "report = { '위험':'설사, 구토 등 식중독 의심 증상이 있으면 의료기관을 방문하여 의사 지시에 따름',\n",
        "           '경고':'조리도구는 세척, 소독 등을 거쳐 세균 오염을 방지하고 유통기한, 보관 방법 등을 확인하여 음식물 조리, 보관에 각별히 주의하여야 함',\n",
        "           '주의':'조리 음식은 중심부까지 75도(어패류 85도)로 1분 이상 완전히 익히고 외부로 운반할 때에는 가급적 아이스박스 등을 이용하여 10도 이하에서 보관 및 운반',\n",
        "           '관심':'화장실 사용 후, 귀가 후, 조리 전에 손 씻기를 생활화'\n",
        "          }\n",
        "\n",
        "areashow = {}\n",
        "\n",
        "for key, value in area.items():\n",
        "  if value >= 86: check = '위험'\n",
        "  elif value >= 71 : check = '경고'\n",
        "  elif value >= 55 : check = '주의'\n",
        "  else : check = '관심'\n",
        "\n",
        "  areashow[key] = check\n",
        "\n",
        "print(areashow)\n",
        "print('지역목록',list(area.keys()))\n",
        "indata = input('지역목록의 지역을 입력하세요 : ')\n",
        "print(f'{indata} : {area[indata]} {areashow[indata]} \\n {report[areashow[indata]]}')\n"
      ],
      "execution_count": null,
      "outputs": [
        {
          "output_type": "stream",
          "text": [
            "{'서울시': '주의', '부산시': '주의', '대구시': '주의', '인천시': '주의', '강화군': '주의', '서해5도': '주의', '광주시': '주의', '대전시': '주의', '울산시': '관심', '세종시': '주의'}\n",
            "지역목록 ['서울시', '부산시', '대구시', '인천시', '강화군', '서해5도', '광주시', '대전시', '울산시', '세종시']\n",
            "지역목록의 지역을 입력하세요 : 서해5도\n",
            "서해5도 : 64 주의 \n",
            " 조리 음식은 중심부까지 75도(어패류 85도)로 1분 이상 완전히 익히고 외부로 운반할 때에는 가급적 아이스박스 등을 이용하여 10도 이하에서 보관 및 운반\n"
          ],
          "name": "stdout"
        }
      ]
    },
    {
      "cell_type": "code",
      "metadata": {
        "colab": {
          "base_uri": "https://localhost:8080/"
        },
        "id": "lPtoZIkHEHLS",
        "outputId": "93202224-5b3e-4f16-e92d-0707ce92b9dc"
      },
      "source": [
        "def cal(num1, num2, op) : \n",
        "  ans = 0\n",
        "  if   op == '+' : ans = num1 + num2\n",
        "  elif op == '-' : ans = num1 - num2\n",
        "  elif op == 'x' : ans = num1 * num2\n",
        "  elif op == '/' : ans = num1 / num2\n",
        "\n",
        "  show(num1, num2, op, ans)\n",
        "\n",
        "def numInput() :\n",
        "  data = int(input('숫자를 입력하세요 : '))\n",
        "  return data\n",
        "\n",
        "def strInput(msg) : \n",
        "  data = input(msg)\n",
        "  return data\n",
        "\n",
        "def show(num1, num2, op, ans) :\n",
        "  print(f'{num1}{op}{num2} = {ans}')\n",
        "\n",
        "if __name__ == '__main__' :\n",
        "  num1 = numInput()\n",
        "  num2 = numInput()\n",
        "  op = strInput('연산자를 입력하세요 : ')\n",
        "  cal(num1, num2, op)\n"
      ],
      "execution_count": null,
      "outputs": [
        {
          "output_type": "stream",
          "text": [
            "숫자를 입력하세요 : 1\n",
            "숫자를 입력하세요 : 2\n",
            "연산자를 입력하세요 : +\n",
            "1+2 = 3\n"
          ],
          "name": "stdout"
        }
      ]
    },
    {
      "cell_type": "code",
      "metadata": {
        "colab": {
          "base_uri": "https://localhost:8080/"
        },
        "id": "urlOXTg8GUG5",
        "outputId": "8fdb7e96-59c9-4659-f4f9-4244ad6c4319"
      },
      "source": [
        "width = int(input('width : '))\n",
        "height = int(input('height : '))\n",
        "\n",
        "area = width * height\n",
        "\n",
        "if width == height : print(f'정사각형 넓이 : {area}')\n",
        "else : print(f'직사각형 넓이 : {area}')"
      ],
      "execution_count": null,
      "outputs": [
        {
          "output_type": "stream",
          "text": [
            "width : 3\n",
            "height : 5\n",
            "직사각형 넓이 : 15\n"
          ],
          "name": "stdout"
        }
      ]
    },
    {
      "cell_type": "code",
      "metadata": {
        "colab": {
          "base_uri": "https://localhost:8080/"
        },
        "id": "aqerNrTcHYAz",
        "outputId": "c77bf336-e2c2-4e97-a793-85e6c5f02d8d"
      },
      "source": [
        "weight = float(input('체중 : '))\n",
        "height_cm = float(input('키 : '))\n",
        "height_m = height_cm / 100\n",
        "gender = int(input('성별(남:1, 여:2) : '))\n",
        "\n",
        "bmi = weight / (height_m**2)\n",
        "\n",
        "print('-'*50)\n",
        "\n",
        "def std_weight(gender) :\n",
        "  if gender == 1 :\n",
        "    std = (height_m**2)*22\n",
        "    print(f'표준체중(남) : {std:.2f} kg')\n",
        "  else :\n",
        "    std = (height_m**2)*21\n",
        "    print(f'표준체중(여) : {std:.2f} kg')\n",
        "  \n",
        "  return std\n",
        "\n",
        "def check(bmi) :\n",
        "  if bmi < 18.5 :\n",
        "    print('저체중(Underweight')\n",
        "  elif bmi >= 18.5 and bmi < 25 :\n",
        "    print('정상(Normal range')\n",
        "  else :\n",
        "    print('비만(Overweight)')\n",
        "\n",
        "std_weight(gender)\n",
        "print(f'체질량지수(BMI) : {bmi:.2f}')\n",
        "check(bmi)"
      ],
      "execution_count": null,
      "outputs": [
        {
          "output_type": "stream",
          "text": [
            "체중 : 71\n",
            "키 : 172\n",
            "성별(남:1, 여:2) : 1\n",
            "--------------------------------------------------\n",
            "표준체중(남) : 65.08 kg\n",
            "체질량지수(BMI) : 24.00\n",
            "정상(Normal range\n"
          ],
          "name": "stdout"
        }
      ]
    },
    {
      "cell_type": "code",
      "metadata": {
        "id": "ONPZNRm2H4QT"
      },
      "source": [
        "path = '/content/drive/My Drive/data/'\n",
        "# '/content/drive/My Drive/data/' test.txt\n",
        "f = open(path+'test.txt','w')\n",
        "\n",
        "f.write('안녕하세요')\n",
        "\n",
        "f.close()"
      ],
      "execution_count": 32,
      "outputs": []
    },
    {
      "cell_type": "code",
      "metadata": {
        "colab": {
          "base_uri": "https://localhost:8080/"
        },
        "id": "eji0O66XOsz3",
        "outputId": "7a7be039-e109-4d98-d66d-d1a3b4680d28"
      },
      "source": [
        "path = '/content/drive/My Drive/data/'\n",
        "\n",
        "fp = open(path+'지역평균기온.txt')\n",
        "data = fp.read()\n",
        "fp.close()\n",
        "print(data)"
      ],
      "execution_count": 31,
      "outputs": [
        {
          "output_type": "stream",
          "text": [
            "21508 김성훈\n",
            "전기과 \n",
            "서울,20\n",
            "부산,26\n",
            "대구,24\n",
            "인천,24\n",
            "광주,25\n",
            "대전,22\n",
            "울산,26\n",
            "세종,23\n",
            "경기,24\n",
            "강원,23\n",
            "충북,26\n",
            "충남,22\n",
            "전북,24\n",
            "전남,23\n",
            "경북,28\n",
            "경남,29\n",
            "제주,26\n",
            "\n"
          ],
          "name": "stdout"
        }
      ]
    },
    {
      "cell_type": "code",
      "metadata": {
        "id": "U-4PdUjtShn5"
      },
      "source": [
        ""
      ],
      "execution_count": null,
      "outputs": []
    }
  ]
}