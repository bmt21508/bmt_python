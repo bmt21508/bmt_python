{
  "nbformat": 4,
  "nbformat_minor": 0,
  "metadata": {
    "colab": {
      "name": "21508_7주차 수업.ipynb",
      "provenance": [],
      "authorship_tag": "ABX9TyNEFCo6TLCGHQmcnRg55YMk",
      "include_colab_link": true
    },
    "kernelspec": {
      "name": "python3",
      "display_name": "Python 3"
    },
    "language_info": {
      "name": "python"
    }
  },
  "cells": [
    {
      "cell_type": "markdown",
      "metadata": {
        "id": "view-in-github",
        "colab_type": "text"
      },
      "source": [
        "<a href=\"https://colab.research.google.com/github/bmt21508/bmt_python/blob/main/21508_7%EC%A3%BC%EC%B0%A8_%EC%88%98%EC%97%85.ipynb\" target=\"_parent\"><img src=\"https://colab.research.google.com/assets/colab-badge.svg\" alt=\"Open In Colab\"/></a>"
      ]
    },
    {
      "cell_type": "code",
      "metadata": {
        "colab": {
          "base_uri": "https://localhost:8080/"
        },
        "id": "fxJmvBfpI7HH",
        "outputId": "49c642af-c07a-4393-81c4-c9754dcf1206"
      },
      "source": [
        "x = int(input('값 입력 : '))\n",
        "\n",
        "if x % 2 == 0:\n",
        "  print(f'{x}(은/는) 짝수')\n",
        "elif x % 2 == 1\n",
        "  print(f'{x}(은/는) 홀수')"
      ],
      "execution_count": 10,
      "outputs": [
        {
          "output_type": "stream",
          "text": [
            "값 입력 : 5\n",
            "5는 홀수\n"
          ],
          "name": "stdout"
        }
      ]
    },
    {
      "cell_type": "code",
      "metadata": {
        "colab": {
          "base_uri": "https://localhost:8080/"
        },
        "id": "RrfUqkYWKm1o",
        "outputId": "3067aac5-3f3e-4753-f5d0-17cac1bd0632"
      },
      "source": [
        "x = float(input('성적입력 : '))\n",
        "\n",
        "if x >= 70:\n",
        "  print(f'{x} : Pass')\n",
        "elif x >= 60:\n",
        "  print(f'{x} : 재시험')\n",
        "else:\n",
        "  print(f'{x} : fail')"
      ],
      "execution_count": 13,
      "outputs": [
        {
          "output_type": "stream",
          "text": [
            "성적입력 : 100\n",
            "100.0 : Pass\n"
          ],
          "name": "stdout"
        }
      ]
    },
    {
      "cell_type": "code",
      "metadata": {
        "colab": {
          "base_uri": "https://localhost:8080/"
        },
        "id": "8NY3wEXzMZra",
        "outputId": "704e7adf-a1d1-4d3a-9805-4eed26203cd1"
      },
      "source": [
        "str = '안녕하세요'\n",
        "'안' in str"
      ],
      "execution_count": 15,
      "outputs": [
        {
          "output_type": "execute_result",
          "data": {
            "text/plain": [
              "True"
            ]
          },
          "metadata": {
            "tags": []
          },
          "execution_count": 15
        }
      ]
    },
    {
      "cell_type": "code",
      "metadata": {
        "colab": {
          "base_uri": "https://localhost:8080/"
        },
        "id": "MVh0FtVdNpiY",
        "outputId": "0d69ddbc-4b66-40f8-a684-f7691bd556fd"
      },
      "source": [
        "1 in [1,2,3]"
      ],
      "execution_count": 16,
      "outputs": [
        {
          "output_type": "execute_result",
          "data": {
            "text/plain": [
              "True"
            ]
          },
          "metadata": {
            "tags": []
          },
          "execution_count": 16
        }
      ]
    },
    {
      "cell_type": "code",
      "metadata": {
        "colab": {
          "base_uri": "https://localhost:8080/"
        },
        "id": "iZjrxcTMN29K",
        "outputId": "d00378eb-f8fb-41a1-abab-d71356ce9b86"
      },
      "source": [
        "str = '안녕하세요'\n",
        "\n",
        "for item in str:\n",
        "  print(item)"
      ],
      "execution_count": 19,
      "outputs": [
        {
          "output_type": "stream",
          "text": [
            "안\n",
            "녕\n",
            "하\n",
            "세\n",
            "요\n"
          ],
          "name": "stdout"
        }
      ]
    },
    {
      "cell_type": "code",
      "metadata": {
        "colab": {
          "base_uri": "https://localhost:8080/"
        },
        "id": "aTXnq7A7OBca",
        "outputId": "8f75dd04-9d3e-4874-b16e-572c70fe93fc"
      },
      "source": [
        "lst = list(range(5))\n",
        "\n",
        "for item in lst:\n",
        "  print(item)"
      ],
      "execution_count": 21,
      "outputs": [
        {
          "output_type": "stream",
          "text": [
            "0\n",
            "1\n",
            "2\n",
            "3\n",
            "4\n"
          ],
          "name": "stdout"
        }
      ]
    },
    {
      "cell_type": "code",
      "metadata": {
        "colab": {
          "base_uri": "https://localhost:8080/"
        },
        "id": "qarFzVSPOiNZ",
        "outputId": "b0b5a415-96de-4336-b3b8-721682273ab4"
      },
      "source": [
        "xlist = list(range(10))\n",
        "print(type(xlist))\n",
        "print(xlist)\n",
        "\n",
        "for item in xlist:\n",
        "  print(item, end=' ')"
      ],
      "execution_count": 24,
      "outputs": [
        {
          "output_type": "stream",
          "text": [
            "<class 'list'>\n",
            "[0, 1, 2, 3, 4, 5, 6, 7, 8, 9]\n",
            "0 1 2 3 4 5 6 7 8 9 "
          ],
          "name": "stdout"
        }
      ]
    },
    {
      "cell_type": "code",
      "metadata": {
        "colab": {
          "base_uri": "https://localhost:8080/"
        },
        "id": "Il57VtmEOx0J",
        "outputId": "29b8cf51-5da1-4fcd-c169-8a4f302849d0"
      },
      "source": [
        "d = {'a':1, 'b':2}\n",
        "\n",
        "for item in d:\n",
        "  print(item, end=' ')\n",
        "print()\n",
        "for item in d.values():\n",
        "  print(item, end=' ')\n",
        "print()\n",
        "for key, value in d.items():\n",
        "  print(key, value)"
      ],
      "execution_count": 26,
      "outputs": [
        {
          "output_type": "stream",
          "text": [
            "a b \n",
            "1 2 \n",
            "a 1\n",
            "b 2\n"
          ],
          "name": "stdout"
        }
      ]
    },
    {
      "cell_type": "code",
      "metadata": {
        "colab": {
          "base_uri": "https://localhost:8080/"
        },
        "id": "MDITeQWqPXNq",
        "outputId": "0ae5635c-a7b5-4aa3-8d1a-ecfbfa9cbdc2"
      },
      "source": [
        "xlist = range(10)\n",
        "print(type(xlist))\n",
        "print(xlist)\n",
        "\n",
        "for item in xlist:\n",
        "  print(item, end=' ')"
      ],
      "execution_count": 27,
      "outputs": [
        {
          "output_type": "stream",
          "text": [
            "<class 'range'>\n",
            "range(0, 10)\n",
            "0 1 2 3 4 5 6 7 8 9 "
          ],
          "name": "stdout"
        }
      ]
    },
    {
      "cell_type": "code",
      "metadata": {
        "colab": {
          "base_uri": "https://localhost:8080/"
        },
        "id": "bys7DNVVQ7QM",
        "outputId": "b19ec935-d47b-4498-806a-2cc6d439a38b"
      },
      "source": [
        "xlist = ['1', '2']\n",
        "xlist = [int(item) for item in xlist]\n",
        "print(xlist)"
      ],
      "execution_count": 32,
      "outputs": [
        {
          "output_type": "stream",
          "text": [
            "[1, 2]\n"
          ],
          "name": "stdout"
        }
      ]
    },
    {
      "cell_type": "code",
      "metadata": {
        "id": "JbqVu24_Spka"
      },
      "source": [
        ""
      ],
      "execution_count": null,
      "outputs": []
    }
  ]
}